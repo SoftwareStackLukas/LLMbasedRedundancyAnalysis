{
 "cells": [
  {
   "cell_type": "markdown",
   "metadata": {},
   "source": [
    "# Here we analayse the Results of ChatGPT for the input with just annotations"
   ]
  },
  {
   "cell_type": "code",
   "execution_count": 1,
   "metadata": {},
   "outputs": [],
   "source": [
    "from support_functions.load_json_chatgpt_results import load_chat_gpt_results"
   ]
  },
  {
   "cell_type": "markdown",
   "metadata": {},
   "source": [
    "## Load ChatGPT results"
   ]
  },
  {
   "cell_type": "code",
   "execution_count": 13,
   "metadata": {},
   "outputs": [],
   "source": [
    "directories_to_ignore:list = [\"text-annotations-redundancy-model-gpt-3.5-turbo\", \"text-annotations-redundancy-model-gpt-4o\"]\n",
    "chat_gpt_results: dict[str, dict[str, dict]] = load_chat_gpt_results(directories_to_ignore)\n",
    "chat_gpt_result_keys: list[str] = list(chat_gpt_results.keys())\n",
    "chat_gpt_result_json_keys = {\n",
    "    outer_key: list(inner_dict.keys())\n",
    "    for outer_key, inner_dict in chat_gpt_results.items()\n",
    "}"
   ]
  },
  {
   "cell_type": "code",
   "execution_count": 14,
   "metadata": {},
   "outputs": [
    {
     "data": {
      "text/plain": [
       "['annotations-redundancy-model-gpt-3.5-turbo']"
      ]
     },
     "execution_count": 14,
     "metadata": {},
     "output_type": "execute_result"
    }
   ],
   "source": [
    "chat_gpt_result_keys"
   ]
  },
  {
   "cell_type": "markdown",
   "metadata": {},
   "source": [
    "## Analyse the data sets"
   ]
  },
  {
   "cell_type": "code",
   "execution_count": 15,
   "metadata": {},
   "outputs": [],
   "source": [
    "model: str\n",
    "data_set: str\n",
    "model = data_set = None\n",
    "full_main_part: int \n",
    "partial_main_part: int\n",
    "full_benefit: int\n",
    "partial_benefit: int\n",
    "partial_main_part = full_main_part = partial_benefit = full_benefit = 0"
   ]
  },
  {
   "cell_type": "code",
   "execution_count": 16,
   "metadata": {},
   "outputs": [
    {
     "name": "stdout",
     "output_type": "stream",
     "text": [
      "annotations-redundancy-model-gpt-3.5-turbo, 00_#G03#.json, 0, 0, 0, 0\n"
     ]
    }
   ],
   "source": [
    "for key, item in chat_gpt_results.items():\n",
    "    model = key\n",
    "    for sub_key, sub_item in item.items():\n",
    "        data_set = sub_key\n",
    "        for _ in sub_item:\n",
    "            if bool(_[\"mainPartRedundancies\"][\"partialRedundancy\"]):\n",
    "                partial_main_part += 1\n",
    "            elif bool(_[\"mainPartRedundancies\"][\"fullRedundancy\"]):\n",
    "                full_main_part += 1\n",
    "            if bool(_[\"benefitRedundancies\"][\"partialRedundancy\"]):\n",
    "                partial_benefit += 1\n",
    "            elif bool(_[\"benefitRedundancies\"][\"fullRedundancy\"]):\n",
    "                full_benefit += 1\n",
    "        print(f\"{model}, {data_set}, {partial_main_part}, {full_main_part}, {partial_benefit}, {full_benefit}\")\n",
    "        full_main_part = partial_benefit = full_benefit = partial_benefit = 0"
   ]
  }
 ],
 "metadata": {
  "kernelspec": {
   "display_name": "Python 3 (ipykernel)",
   "language": "python",
   "name": "python3"
  },
  "language_info": {
   "codemirror_mode": {
    "name": "ipython",
    "version": 3
   },
   "file_extension": ".py",
   "mimetype": "text/x-python",
   "name": "python",
   "nbconvert_exporter": "python",
   "pygments_lexer": "ipython3",
   "version": "3.12.2"
  }
 },
 "nbformat": 4,
 "nbformat_minor": 2
}
