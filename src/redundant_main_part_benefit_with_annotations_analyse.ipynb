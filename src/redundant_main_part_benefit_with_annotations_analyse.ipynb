{
 "cells": [
  {
   "cell_type": "markdown",
   "metadata": {},
   "source": [
    "# Analysing the redundancies of User Stories benefits"
   ]
  },
  {
   "cell_type": "code",
   "execution_count": 1,
   "metadata": {},
   "outputs": [],
   "source": [
    "import locale\n",
    "import os\n",
    "from itertools import combinations\n",
    "\n",
    "import pandas as pd\n",
    "import tiktoken\n",
    "from openpyxl import Workbook, load_workbook\n",
    "from openpyxl.styles import Alignment, Font\n",
    "from openpyxl.utils import get_column_letter as utils_get_column_letter\n",
    "#from openpyxl.worksheet.worksheet import Worksheet\n",
    "\n",
    "from support_functions.excel_helper import save_to_excel\n",
    "from support_functions.load_data import load_datasets_with_annotations as loading\n",
    "from support_functions.request_handler import process_user_stories, process_user_stories_parallel\n",
    "from support_functions.data_transformations import convert_annotation_dataset\n",
    "from support_functions.time_recorder import TimeRecorder"
   ]
  },
  {
   "cell_type": "code",
   "execution_count": 2,
   "metadata": {},
   "outputs": [
    {
     "name": "stdout",
     "output_type": "stream",
     "text": [
      "Threading is used: False\n",
      "gpt-3.5-turbo\n"
     ]
    }
   ],
   "source": [
    "locale.setlocale(locale.LC_ALL, 'de_DE') \n",
    "MODEL_VERSION_NAME = os.getenv('MODEL_VERSION')\n",
    "THREADING = bool(int(os.getenv('THREADING')))\n",
    "print(f\"Threading is used: {THREADING}\")\n",
    "print(MODEL_VERSION_NAME)"
   ]
  },
  {
   "cell_type": "code",
   "execution_count": 3,
   "metadata": {},
   "outputs": [],
   "source": [
    "time_recorders: dict = {}\n",
    "time_recorder: TimeRecorder = None"
   ]
  },
  {
   "cell_type": "markdown",
   "metadata": {},
   "source": [
    "### Load all User Stories from the different packages\n",
    "\n",
    "We do not need:\n",
    "- POS\n",
    "\n",
    "Highlighting words with #"
   ]
  },
  {
   "cell_type": "code",
   "execution_count": 4,
   "metadata": {},
   "outputs": [
    {
     "name": "stdout",
     "output_type": "stream",
     "text": [
      "{'PID': '#G02#', 'Text': '#G02# As a Data user, I want to have the 12-19-2017 deletions processed.', 'Persona': ['Data user'], 'Action': {'Primary Action': ['have'], 'Secondary Action': ['processed']}, 'Entity': {'Primary Entity': ['12-19-2017 deletions'], 'Secondary Entity': ['']}, 'Benefit': '', 'Triggers': [['Data user', 'have']], 'Targets': [['processed', '12-19-2017 deletions'], ['have', '12-19-2017 deletions']], 'Contains': [], 'Persona POS': {'Persona POS tag': [['NOUN', 'NOUN']], 'Persona POS text': [['Data', 'user']]}, 'Action POS': {'Primary Action POS': {'Primary Action POS tag': [['VERB']], 'Primary Action POS text': [['have']]}, 'Secondary Action POS': {'Secondary Action POS tag': [['VERB']], 'Secondary Action POS text': [['processed']]}}, 'Entity POS': {'Primary Entity POS': {'Primary Entity POS tag': [['NUM', 'NOUN']], 'Primary Entity POS text': [['12-19-2017', 'deletions']]}, 'Secondary Entity POS': {'Secondary Entity POS tag': [[]], 'Secondary Entity POS text': [[]]}}}\n"
     ]
    }
   ],
   "source": [
    "datasets: dict[str, list] = loading()\n",
    "print(datasets[\"g02\"][0])"
   ]
  },
  {
   "cell_type": "code",
   "execution_count": 5,
   "metadata": {},
   "outputs": [],
   "source": [
    "datasets = convert_annotation_dataset(datasets)"
   ]
  },
  {
   "cell_type": "markdown",
   "metadata": {},
   "source": [
    "### Prepaire Prompting"
   ]
  },
  {
   "cell_type": "code",
   "execution_count": 6,
   "metadata": {},
   "outputs": [],
   "source": [
    "definition_json_format_pair_user_stories: str = '''\n",
    "{\n",
    "    \"relatedStories\": [1, 3],\n",
    "    \"redundantMainPart\": true, \n",
    "    \"mainPartRedundancies\": [\n",
    "        fullRedundancy: true,\n",
    "        fullRedundancy: [\n",
    "            {\n",
    "                \"reasonDescription\": \"The redundancy arises from the repetition of the concept of user verification expressed in slightly different ways for emphasis or to cater to different audiences.\",\n",
    "                \"referenceToOriginalText\": [\"As a #User#, I #want# to #verify# myself\", \"As an application #User#, I #want# to #verify# that I am who I am\"]\n",
    "                \"pairsOfRedundancy\": {\n",
    "                    [\"User\", \"application #User#\"],\n",
    "                    [\"verify\", \"verify\"]\n",
    "                }\n",
    "            },\n",
    "        ],\n",
    "        partialRedundancy: true,\n",
    "        partialRedundancy: [\n",
    "            {\n",
    "                \"reasonDescription\": \"The redundancy arises from the repetition of the concept of user verification expressed in slightly different ways for emphasis or to cater to different audiences.\",\n",
    "                \"referenceToOriginalText\": [\"As a User, I want to verify myself\", \"As an application User, I want to verify that I am who I am\"]\n",
    "            },\n",
    "        ]        \n",
    "    ],\n",
    "    \"redundantBenefit\": true, \n",
    "    \"benefitRedundancies\": [\n",
    "        fullRedundancy: true,\n",
    "        fullRedundancy: [\n",
    "            {\n",
    "                \"reasonDescription\": \"The redundancy arises from the repetition of the concept of user verification expressed in slightly different ways for emphasis or to cater to different audiences.\",\n",
    "                \"referenceToOriginalText\": [\"As a User, I want to verify myself\", \"As an application User, I want to verify that I am who I am\"]\n",
    "            },\n",
    "        ],\n",
    "        partialRedundancy: true,\n",
    "        partialRedundancy: [\n",
    "            {\n",
    "                \"reasonDescription\": \"The redundancy arises from the repetition of the concept of user verification expressed in slightly different ways for emphasis or to cater to different audiences.\",\n",
    "                \"referenceToOriginalText\": [\"As a User, I want to verify myself\", \"As an application User, I want to verify that I am who I am\"]\n",
    "            },\n",
    "        ] \n",
    "    ]\n",
    "}\n",
    "'''"
   ]
  }
 ],
 "metadata": {
  "kernelspec": {
   "display_name": "Python 3 (ipykernel)",
   "language": "python",
   "name": "python3"
  },
  "language_info": {
   "codemirror_mode": {
    "name": "ipython",
    "version": 3
   },
   "file_extension": ".py",
   "mimetype": "text/x-python",
   "name": "python",
   "nbconvert_exporter": "python",
   "pygments_lexer": "ipython3",
   "version": "3.12.2"
  }
 },
 "nbformat": 4,
 "nbformat_minor": 2
}
