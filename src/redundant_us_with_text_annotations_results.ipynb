{
 "cells": [
  {
   "cell_type": "markdown",
   "metadata": {},
   "source": [
    "# Here we analayse the Results of ChatGPT for the input with text and annotations"
   ]
  },
  {
   "cell_type": "code",
   "execution_count": null,
   "metadata": {},
   "outputs": [],
   "source": [
    "from support_functions.load_json_chatgpt_results import load_chat_gpt_results"
   ]
  },
  {
   "cell_type": "markdown",
   "metadata": {},
   "source": [
    "## Load ChatGPT results"
   ]
  },
  {
   "cell_type": "code",
   "execution_count": null,
   "metadata": {},
   "outputs": [],
   "source": [
    "directories_to_ignore:dict = [\"annoations\"]\n",
    "chat_gpt_results: dict[str, dict[str, dict]] = load_chat_gpt_results(directories_to_ignore)\n",
    "chat_gpt_result_keys: list[str] = list(chat_gpt_results.keys())\n",
    "chat_gpt_result_json_keys = {\n",
    "    outer_key: list(inner_dict.keys())\n",
    "    for outer_key, inner_dict in chat_gpt_results.items()\n",
    "}"
   ]
  },
  {
   "cell_type": "markdown",
   "metadata": {},
   "source": [
    "## Analyse the data sets"
   ]
  },
  {
   "cell_type": "code",
   "execution_count": null,
   "metadata": {},
   "outputs": [],
   "source": []
  },
  {
   "cell_type": "code",
   "execution_count": null,
   "metadata": {},
   "outputs": [],
   "source": []
  }
 ],
 "metadata": {
  "kernelspec": {
   "display_name": "Python 3 (ipykernel)",
   "language": "python",
   "name": "python3"
  }
 },
 "nbformat": 4,
 "nbformat_minor": 2
}
