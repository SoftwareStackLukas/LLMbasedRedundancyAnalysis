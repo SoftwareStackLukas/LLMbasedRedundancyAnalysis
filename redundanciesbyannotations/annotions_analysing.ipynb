{
 "cells": [
  {
   "cell_type": "markdown",
   "metadata": {},
   "source": [
    "# We should here introduce a similarity check based on text\n",
    "## Load data\n",
    "## Make comparison\n",
    "## Create tables (visualisation)"
   ]
  },
  {
   "cell_type": "code",
   "execution_count": null,
   "metadata": {},
   "outputs": [],
   "source": []
  }
 ],
 "metadata": {
  "language_info": {
   "name": "python"
  }
 },
 "nbformat": 4,
 "nbformat_minor": 2
}
