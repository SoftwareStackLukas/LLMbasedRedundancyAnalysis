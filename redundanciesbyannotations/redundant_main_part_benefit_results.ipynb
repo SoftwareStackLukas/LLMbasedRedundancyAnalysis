{
 "cells": [
  {
   "cell_type": "markdown",
   "metadata": {},
   "source": [
    "# Here we compare the Results of ChatGPT against the manuell Results"
   ]
  },
  {
   "cell_type": "code",
   "execution_count": 145,
   "metadata": {},
   "outputs": [],
   "source": [
    "import pandas as pd\n",
    "import numpy as np\n",
    "import os, json, re, sys\n",
    "from support_functions.load_data import load_datasets_with_annotations as loading\n",
    "from sklearn.metrics import precision_score, recall_score, f1_score, accuracy_score, precision_recall_curve\n",
    "from sklearn.metrics import roc_auc_score, roc_curve, auc, confusion_matrix\n",
    "import matplotlib.pyplot as plt\n",
    "from openpyxl import load_workbook, Workbook\n",
    "from openpyxl.styles import Font, Alignment\n",
    "from openpyxl.worksheet.worksheet import Worksheet\n",
    "from openpyxl.utils import get_column_letter as utils_get_column_letter"
   ]
  },
  {
   "cell_type": "markdown",
   "metadata": {},
   "source": [
    "### Loading the data from excel data"
   ]
  },
  {
   "cell_type": "code",
   "execution_count": 146,
   "metadata": {},
   "outputs": [],
   "source": [
    "def load_datasets_add_line_counter() -> dict[str, list]:\n",
    "    datasets: dict[str, list] = loading()\n",
    "    for key in datasets.keys():\n",
    "        current_dataset = datasets[key]\n",
    "        for i, item in enumerate(current_dataset, start=1):\n",
    "            item = {'linecounter': i, **item}\n",
    "            current_dataset[i-1] = item\n",
    "    return datasets"
   ]
  },
  {
   "cell_type": "code",
   "execution_count": 147,
   "metadata": {},
   "outputs": [],
   "source": [
    "def prepaire_excel_data() -> pd:\n",
    "    current_directory = os.getcwd()\n",
    "    suffix = '\\\\redundanciesbyannotations'\n",
    "    directory_excel = current_directory[:-len(suffix)] if current_directory.endswith(suffix) else current_directory\n",
    "    directory_excel += \"\\\\Dataset\\\\Evaluation_v4.xlsx\"\n",
    "    excel_data = pd.read_excel(directory_excel, usecols=lambda column: 'Item' not in column, skiprows=range(1), sheet_name=\"Ground Truth\")\n",
    "    excel_data = excel_data.drop(columns=['Unnamed: 0', 'Unnamed: 12', 'total', 'main', 'benefit', 'total.1', 'main.1', 'benefit.1'], axis=1)\n",
    "    excel_data = excel_data.rename(columns={'Main Part \\nPartial': 'Main Part Partial', 'Main Part \\nFull': 'Main Part Full', 'Benefit\\nPartial':'Benefit Partial','Benefit\\nFull':'Benefit Full'})\n",
    "    excel_data.index += 1\n",
    "    excel_data = excel_data.fillna(\"Empty\")\n",
    "    \n",
    "    ## Map line number to user story number\n",
    "    excel_data.insert(loc=4, column='Corresponding USID 1', value=0)\n",
    "    excel_data.insert(loc=5, column='Corresponding USID 2', value=0)\n",
    "    datasets = load_datasets_add_line_counter()\n",
    "    for idx in range(len(excel_data)):\n",
    "        redundant_pairs = excel_data.iat[idx, 1]\n",
    "        parts = redundant_pairs.split('_')\n",
    "        first_number = int(parts[2])\n",
    "        second_number = int(parts[-1])\n",
    "        project_number = f\"#{excel_data.iat[idx, 0]}#\".upper()\n",
    "        project_data = datasets[project_number]\n",
    "        for item in project_data: \n",
    "            if item['linecounter'] == first_number:\n",
    "                excel_data.iat[idx, 4] = item['id']\n",
    "            if item['linecounter'] == second_number:\n",
    "                excel_data.iat[idx, 5] = item['id']\n",
    "    return excel_data"
   ]
  },
  {
   "cell_type": "code",
   "execution_count": 148,
   "metadata": {},
   "outputs": [
    {
     "data": {
      "text/html": [
       "<div>\n",
       "<style scoped>\n",
       "    .dataframe tbody tr th:only-of-type {\n",
       "        vertical-align: middle;\n",
       "    }\n",
       "\n",
       "    .dataframe tbody tr th {\n",
       "        vertical-align: top;\n",
       "    }\n",
       "\n",
       "    .dataframe thead th {\n",
       "        text-align: right;\n",
       "    }\n",
       "</style>\n",
       "<table border=\"1\" class=\"dataframe\">\n",
       "  <thead>\n",
       "    <tr style=\"text-align: right;\">\n",
       "      <th></th>\n",
       "      <th>Project Number</th>\n",
       "      <th>Redundant Pairs</th>\n",
       "      <th>User Stories Texts</th>\n",
       "      <th>Total Redundancy Clause *</th>\n",
       "      <th>Corresponding USID 1</th>\n",
       "      <th>Corresponding USID 2</th>\n",
       "      <th>Main Part Redundancy Clause**</th>\n",
       "      <th>Benefit Part Redundancy Clause ***</th>\n",
       "      <th>Main Part Partial</th>\n",
       "      <th>Main Part Full</th>\n",
       "      <th>Benefit Partial</th>\n",
       "      <th>Benefit Full</th>\n",
       "    </tr>\n",
       "  </thead>\n",
       "  <tbody>\n",
       "    <tr>\n",
       "      <th>1</th>\n",
       "      <td>G03</td>\n",
       "      <td>user_story_12_AND_user_story_39</td>\n",
       "      <td>user_story_12: #g03# as a staff member, i want...</td>\n",
       "      <td>1</td>\n",
       "      <td>326</td>\n",
       "      <td>353</td>\n",
       "      <td>0</td>\n",
       "      <td>1</td>\n",
       "      <td>False</td>\n",
       "      <td>False</td>\n",
       "      <td>True</td>\n",
       "      <td>False</td>\n",
       "    </tr>\n",
       "    <tr>\n",
       "      <th>2</th>\n",
       "      <td>G03</td>\n",
       "      <td>user_story_17_AND_user_story_30</td>\n",
       "      <td>user_story_17: #g03# as a staff member, i want...</td>\n",
       "      <td>1</td>\n",
       "      <td>331</td>\n",
       "      <td>344</td>\n",
       "      <td>0</td>\n",
       "      <td>1</td>\n",
       "      <td>False</td>\n",
       "      <td>False</td>\n",
       "      <td>True</td>\n",
       "      <td>False</td>\n",
       "    </tr>\n",
       "    <tr>\n",
       "      <th>3</th>\n",
       "      <td>G04</td>\n",
       "      <td>user_story_05_AND_user_story_12</td>\n",
       "      <td>user_story_05: #g04# as a user, i want to have...</td>\n",
       "      <td>1</td>\n",
       "      <td>168</td>\n",
       "      <td>175</td>\n",
       "      <td>0</td>\n",
       "      <td>1</td>\n",
       "      <td>False</td>\n",
       "      <td>False</td>\n",
       "      <td>False</td>\n",
       "      <td>True</td>\n",
       "    </tr>\n",
       "  </tbody>\n",
       "</table>\n",
       "</div>"
      ],
      "text/plain": [
       "  Project Number                  Redundant Pairs  \\\n",
       "1            G03  user_story_12_AND_user_story_39   \n",
       "2            G03  user_story_17_AND_user_story_30   \n",
       "3            G04  user_story_05_AND_user_story_12   \n",
       "\n",
       "                                  User Stories Texts  \\\n",
       "1  user_story_12: #g03# as a staff member, i want...   \n",
       "2  user_story_17: #g03# as a staff member, i want...   \n",
       "3  user_story_05: #g04# as a user, i want to have...   \n",
       "\n",
       "   Total Redundancy Clause *  Corresponding USID 1  Corresponding USID 2  \\\n",
       "1                          1                   326                   353   \n",
       "2                          1                   331                   344   \n",
       "3                          1                   168                   175   \n",
       "\n",
       "   Main Part Redundancy Clause**  Benefit Part Redundancy Clause ***  \\\n",
       "1                              0                                   1   \n",
       "2                              0                                   1   \n",
       "3                              0                                   1   \n",
       "\n",
       "   Main Part Partial  Main Part Full  Benefit Partial  Benefit Full  \n",
       "1              False           False             True         False  \n",
       "2              False           False             True         False  \n",
       "3              False           False            False          True  "
      ]
     },
     "execution_count": 148,
     "metadata": {},
     "output_type": "execute_result"
    }
   ],
   "source": [
    "excel_data = prepaire_excel_data()\n",
    "excel_data.head(3)"
   ]
  },
  {
   "cell_type": "markdown",
   "metadata": {},
   "source": [
    "### Loading ChatGPT results"
   ]
  },
  {
   "cell_type": "code",
   "execution_count": 149,
   "metadata": {},
   "outputs": [],
   "source": [
    "directories_to_ignore:dict = [\"annotations\", \"dependency_graph\", \"us_annotations_redundancy-model-gpt-3.5-turbo\", \"us_annotations_redundancy-model-gpt-4-turbo\"]\n",
    "def load_chat_gpt_results() -> dict[str, dict[str, dict]]:\n",
    "    directory_results = os.path.join(os.getcwd(), \"results\")\n",
    "    category_data: dict = {}\n",
    "    for root, dirs, files in os.walk(directory_results):\n",
    "        category_name = os.path.basename(root)\n",
    "        dirs[:] = [d for d in dirs if d not in directories_to_ignore]\n",
    "        temp_category_data: dict = {}\n",
    "        for filename in files:\n",
    "            file_path = os.path.join(root, filename)\n",
    "            if filename.endswith('.json'):\n",
    "                with open(file_path, 'r') as file:\n",
    "                    data = json.load(file)\n",
    "                    temp_category_data[filename] = data\n",
    "        if (temp_category_data):\n",
    "            category_data[category_name] = temp_category_data\n",
    "    return category_data"
   ]
  },
  {
   "cell_type": "code",
   "execution_count": 150,
   "metadata": {},
   "outputs": [],
   "source": [
    "chat_gpt_results: dict[str, dict[str, dict]] = load_chat_gpt_results()\n",
    "chat_gpt_result_keys: list[str] = list(chat_gpt_results.keys())\n",
    "chat_gpt_result_json_keys = {\n",
    "    outer_key: list(inner_dict.keys())\n",
    "    for outer_key, inner_dict in chat_gpt_results.items()\n",
    "}"
   ]
  },
  {
   "cell_type": "markdown",
   "metadata": {},
   "source": [
    "### Analyse - TP, FP, TN, FN, Precision, Recall, F1 Score, Accuracy, Confusion Matrix, ROC Curve and AUC-ROC, Precision-Recall Curve and AUC-PR\n",
    "\n",
    "- Do it for the Main Part (for this the prompt has to be adjusted)\n",
    "- Do it for the Benefit (for this the prompt has to be adjusted)\n",
    "- How to check between the difference between partial and full redundancy\n",
    "- Until know always when a Main Part Redundancy is detected also a benefit redundancy is detected... prompt has to be improved"
   ]
  },
  {
   "cell_type": "code",
   "execution_count": 151,
   "metadata": {},
   "outputs": [],
   "source": [
    "# Define an epsilon value to prevent division by zero\n",
    "# Based on IEEE 754 double-precision binary floating-point format (binary64)\n",
    "EPSILON = sys.float_info.min"
   ]
  },
  {
   "cell_type": "code",
   "execution_count": 152,
   "metadata": {},
   "outputs": [],
   "source": [
    "def calc_redundancy(local_ground_truth: pd.DataFrame, data: dict[list[dict]], main_part: bool) -> tuple[np.array, np.array, int, int, int, int]:\n",
    "    keys_for_eval = [\n",
    "        'relatedStories',  # Always included\n",
    "        'redundantMainPart' if main_part else 'redundantBenefit',\n",
    "        'mainPartRedundancies' if main_part else 'benefitRedundancies',\n",
    "        6 if main_part else 7\n",
    "    ]\n",
    "    \n",
    "    entries: int = 0\n",
    "    for key in data.keys():\n",
    "        json_item = data[key]\n",
    "        for item in json_item:\n",
    "            entries += 1\n",
    "    truth: np.array = np.zeros((entries), dtype=int)\n",
    "    predicted: np.array = np.zeros((entries), dtype=int)\n",
    "    tp, fp, tn, fn = 0, 0, 0, 0\n",
    "\n",
    "    truth_redundant: bool = False\n",
    "    predicted_redundant:bool = False\n",
    "    uid1: int = -1\n",
    "    uid2: int = -1\n",
    "    min_length: int = -1\n",
    "    entries_in_filtered_row: int = -1\n",
    "    ENTRY_IN_GROUND_TRUTH: int = 1\n",
    "    ENTRY_NOT_IN_GROUND_TRUTH: int = 0\n",
    "    # We assume here that the .json-Files have always all posible pairs n(n-1)/2\n",
    "    for idx_np_array, key in enumerate(data.keys()):\n",
    "        json_item = data[key]\n",
    "        for item in json_item:\n",
    "            uid1, uid2 = item[keys_for_eval[0]]\n",
    "            filtered_rows = excel_data[(excel_data['Corresponding USID 1'].astype(int) == uid1) \n",
    "                                       & (excel_data['Corresponding USID 2'].astype(int) == uid2)]\n",
    "            entries_in_filtered_row = len(filtered_rows)\n",
    "            if  entries_in_filtered_row > 1:\n",
    "                raise ValueError(f\"For {item[0]}, multiple entries in the ground truth excel were found.\")\n",
    "            \n",
    "            ###This checks if at last the one rededundancy is found when true is set.\n",
    "            min_length = len(item[keys_for_eval[2]][0]['referenceToOriginalText'])\n",
    "            predicted_redundant = bool(item[keys_for_eval[1]]) and bool(min_length == 2)\n",
    "                        \n",
    "            # The Excel does not contain false positives and true negatives and false negatives\n",
    "            # It just contains true positives\n",
    "            if (entries_in_filtered_row == ENTRY_IN_GROUND_TRUTH):\n",
    "                truth_redundant = bool(filtered_rows.iat[0, keys_for_eval[3]])\n",
    "                truth[idx_np_array] = truth_redundant\n",
    "                predicted[idx_np_array] = predicted_redundant\n",
    "                if truth_redundant == True and predicted_redundant == True:\n",
    "                    tp += 1\n",
    "                elif truth_redundant == True and predicted_redundant == False:\n",
    "                    fn += 1\n",
    "            elif(entries_in_filtered_row == ENTRY_NOT_IN_GROUND_TRUTH):\n",
    "                truth_redundant = False\n",
    "                truth[idx_np_array] = truth_redundant\n",
    "                predicted[idx_np_array] = predicted_redundant\n",
    "                if truth_redundant == False and predicted_redundant == False:\n",
    "                    tn += 1\n",
    "                elif truth_redundant == False and predicted_redundant == True:\n",
    "                    fp += 1\n",
    "                    \n",
    "    return truth, predicted, tp, fp, tn, fn"
   ]
  },
  {
   "cell_type": "code",
   "execution_count": 153,
   "metadata": {},
   "outputs": [],
   "source": [
    "def calc_main_part_redundancy(local_ground_truth: pd.DataFrame, data: dict[list[dict]]) -> tuple[np.array, np.array, int, int, int, int]:\n",
    "    return calc_redundancy(local_ground_truth, data, True)"
   ]
  },
  {
   "cell_type": "code",
   "execution_count": 154,
   "metadata": {},
   "outputs": [],
   "source": [
    "def calc_benefit_redundancy(local_ground_truth: pd.DataFrame, data: dict[list[dict]]) -> tuple[np.array, np.array, int, int, int, int]:\n",
    "    return calc_redundancy(local_ground_truth, data, False)"
   ]
  },
  {
   "cell_type": "markdown",
   "metadata": {},
   "source": [
    "#### redundancy-model-gpt-3.5-turbo"
   ]
  },
  {
   "cell_type": "markdown",
   "metadata": {},
   "source": [
    "#### For Main Part Redundancy (Full/Partial?)"
   ]
  },
  {
   "cell_type": "code",
   "execution_count": 155,
   "metadata": {},
   "outputs": [],
   "source": [
    "###Both was flatten based on the predicted dataset\n",
    "ground_truth: np.array\n",
    "predicted_redundancy: np.array\n",
    "tp_3_5_turbo: int = 0\n",
    "fp_3_5_turbo: int = 0\n",
    "tn_3_5_turbo: int = 0\n",
    "fn_3_5_turbo: int = 0"
   ]
  },
  {
   "cell_type": "code",
   "execution_count": 156,
   "metadata": {},
   "outputs": [],
   "source": [
    "ground_truth, predicted_redundancy, tp_3_5_turbo, fp_3_5_turbo, tn_3_5_turbo, fn_3_5_turbo = calc_main_part_redundancy(excel_data, chat_gpt_results['redundancy-model-gpt-3.5-turbo'])"
   ]
  },
  {
   "cell_type": "code",
   "execution_count": 157,
   "metadata": {},
   "outputs": [
    {
     "name": "stdout",
     "output_type": "stream",
     "text": [
      "Ground Truth: [0]\n",
      "Predicted: [1]\n",
      "True Positives (TP): 0\n",
      "False Positives (FP): 0\n",
      "True Negatives (TN): 0\n",
      "False Negatives (FN): 0\n"
     ]
    }
   ],
   "source": [
    "print(\"Ground Truth:\", ground_truth)\n",
    "print(\"Predicted:\", predicted_redundancy)\n",
    "print(\"True Positives (TP):\" ,tp_3_5_turbo)\n",
    "print(\"False Positives (FP):\", fp_3_5_turbo)\n",
    "print(\"True Negatives (TN):\", tn_3_5_turbo)\n",
    "print(\"False Negatives (FN):\", fn_3_5_turbo)"
   ]
  },
  {
   "cell_type": "code",
   "execution_count": 158,
   "metadata": {},
   "outputs": [
    {
     "name": "stderr",
     "output_type": "stream",
     "text": [
      "d:\\_Projects\\_myProjects\\RedundancyAndConflictAnalysis\\.venv\\Lib\\site-packages\\sklearn\\metrics\\_classification.py:1509: UndefinedMetricWarning: Recall is ill-defined and being set to 0.0 due to no true samples. Use `zero_division` parameter to control this behavior.\n",
      "  _warn_prf(average, modifier, f\"{metric.capitalize()} is\", len(result))\n",
      "C:\\Users\\Lukas Hofmann\\AppData\\Local\\Temp\\ipykernel_23476\\98980952.py:12: RuntimeWarning: invalid value encountered in divide\n",
      "  conf_matrix_norm_3_5_turbo = conf_matrix_3_5_turbo.astype('float') / conf_matrix_3_5_turbo.sum(axis=1)[:, np.newaxis]\n",
      "d:\\_Projects\\_myProjects\\RedundancyAndConflictAnalysis\\.venv\\Lib\\site-packages\\sklearn\\metrics\\_ranking.py:1146: UndefinedMetricWarning: No positive samples in y_true, true positive value should be meaningless\n",
      "  warnings.warn(\n",
      "d:\\_Projects\\_myProjects\\RedundancyAndConflictAnalysis\\.venv\\Lib\\site-packages\\sklearn\\metrics\\_ranking.py:993: UserWarning: No positive class found in y_true, recall is set to one for all thresholds.\n",
      "  warnings.warn(\n"
     ]
    }
   ],
   "source": [
    "precision_3_5_turbo = precision_score(ground_truth, predicted_redundancy)\n",
    "recall_3_5_turbo = recall_score(ground_truth, predicted_redundancy)\n",
    "f1_3_5_turbo = f1_score(ground_truth, predicted_redundancy)\n",
    "accuracy_3_5_turbo = accuracy_score(ground_truth, predicted_redundancy)\n",
    "\n",
    "sensitivity_3_5_turbo = tp_3_5_turbo / (tp_3_5_turbo + fn_3_5_turbo + EPSILON) \n",
    "specificity_3_5_turbo = tn_3_5_turbo / (tn_3_5_turbo + fp_3_5_turbo + EPSILON)\n",
    "fpr_manual_3_5_turbo = fp_3_5_turbo / (fp_3_5_turbo + tn_3_5_turbo + EPSILON)\n",
    "\n",
    "#Confusion Matrix\n",
    "conf_matrix_3_5_turbo = confusion_matrix(ground_truth, predicted_redundancy)\n",
    "conf_matrix_norm_3_5_turbo = conf_matrix_3_5_turbo.astype('float') / conf_matrix_3_5_turbo.sum(axis=1)[:, np.newaxis]\n",
    "\n",
    "###Check the following if I did it correctly\n",
    "### Use maybe roc_auc_score\n",
    "#ROC Curve and AUC-ROC\n",
    "fpr_3_5_turbo, tpr_3_5_turbo, thresholds_3_5_turbo = roc_curve(ground_truth, predicted_redundancy)\n",
    "roc_auc_3_5_turbo = auc(fpr_3_5_turbo, tpr_3_5_turbo)\n",
    "# Precision-Recall Curve and AUC-PR\n",
    "precision_3_5_turbo, recall_3_5_turbo, __3_5_turbo = precision_recall_curve(ground_truth, predicted_redundancy)\n",
    "pr_auc = auc(recall_3_5_turbo, precision_3_5_turbo)\n"
   ]
  },
  {
   "cell_type": "code",
   "execution_count": 159,
   "metadata": {},
   "outputs": [
    {
     "name": "stdout",
     "output_type": "stream",
     "text": [
      "Precision: [0. 1.]\n",
      "Recall: [1. 0.]\n",
      "F1: 0.0\n",
      "Accuracy: 0.0\n",
      "Sensitivity: 0.0\n",
      "Specificity: 0.0\n",
      "False positive rate: 0.0\n",
      "-----\n",
      "Confusion Matrix: [[0 1]\n",
      " [0 0]]\n",
      "Normalised Confusion Matrix: [[ 0.  1.]\n",
      " [nan nan]]\n",
      "-----\n",
      "AUC-ROC: nan\n",
      "AUC-PR: 0.5\n"
     ]
    }
   ],
   "source": [
    "print(\"Precision:\", precision_3_5_turbo)\n",
    "print(\"Recall:\",recall_3_5_turbo)\n",
    "print(\"F1:\",f1_3_5_turbo)\n",
    "print(\"Accuracy:\",accuracy_3_5_turbo)\n",
    "print(\"Sensitivity:\",sensitivity_3_5_turbo)\n",
    "print(\"Specificity:\",specificity_3_5_turbo)\n",
    "print(\"False positive rate:\", fpr_manual_3_5_turbo)\n",
    "print(\"-\" * 5)\n",
    "print(\"Confusion Matrix:\", conf_matrix_3_5_turbo)\n",
    "print(\"Normalised Confusion Matrix:\", conf_matrix_norm_3_5_turbo)\n",
    "print(\"-\" * 5)\n",
    "print(\"AUC-ROC:\", roc_auc_3_5_turbo)\n",
    "print(\"AUC-PR:\", pr_auc)"
   ]
  },
  {
   "cell_type": "code",
   "execution_count": 160,
   "metadata": {},
   "outputs": [
    {
     "ename": "NameError",
     "evalue": "name 'roc_auc' is not defined",
     "output_type": "error",
     "traceback": [
      "\u001b[1;31m---------------------------------------------------------------------------\u001b[0m",
      "\u001b[1;31mNameError\u001b[0m                                 Traceback (most recent call last)",
      "Cell \u001b[1;32mIn[160], line 2\u001b[0m\n\u001b[0;32m      1\u001b[0m plt\u001b[38;5;241m.\u001b[39mfigure()\n\u001b[1;32m----> 2\u001b[0m plt\u001b[38;5;241m.\u001b[39mplot(fpr_3_5_turbo, tpr_3_5_turbo, color\u001b[38;5;241m=\u001b[39m\u001b[38;5;124m'\u001b[39m\u001b[38;5;124mdarkorange\u001b[39m\u001b[38;5;124m'\u001b[39m, lw\u001b[38;5;241m=\u001b[39m\u001b[38;5;241m2\u001b[39m, label\u001b[38;5;241m=\u001b[39m\u001b[38;5;124m'\u001b[39m\u001b[38;5;124mROC curve (AUC = \u001b[39m\u001b[38;5;132;01m%0.2f\u001b[39;00m\u001b[38;5;124m)\u001b[39m\u001b[38;5;124m'\u001b[39m \u001b[38;5;241m%\u001b[39m \u001b[43mroc_auc\u001b[49m)\n\u001b[0;32m      3\u001b[0m plt\u001b[38;5;241m.\u001b[39mplot([\u001b[38;5;241m0\u001b[39m, \u001b[38;5;241m1\u001b[39m], [\u001b[38;5;241m0\u001b[39m, \u001b[38;5;241m1\u001b[39m], color\u001b[38;5;241m=\u001b[39m\u001b[38;5;124m'\u001b[39m\u001b[38;5;124mnavy\u001b[39m\u001b[38;5;124m'\u001b[39m, lw\u001b[38;5;241m=\u001b[39m\u001b[38;5;241m2\u001b[39m, linestyle\u001b[38;5;241m=\u001b[39m\u001b[38;5;124m'\u001b[39m\u001b[38;5;124m--\u001b[39m\u001b[38;5;124m'\u001b[39m)\n\u001b[0;32m      4\u001b[0m plt\u001b[38;5;241m.\u001b[39mxlim([\u001b[38;5;241m0.0\u001b[39m, \u001b[38;5;241m1.0\u001b[39m])\n",
      "\u001b[1;31mNameError\u001b[0m: name 'roc_auc' is not defined"
     ]
    },
    {
     "data": {
      "text/plain": [
       "<Figure size 640x480 with 0 Axes>"
      ]
     },
     "metadata": {},
     "output_type": "display_data"
    }
   ],
   "source": [
    "plt.figure()\n",
    "plt.plot(fpr_3_5_turbo, tpr_3_5_turbo, color='darkorange', lw=2, label='ROC curve (AUC = %0.2f)' % roc_auc)\n",
    "plt.plot([0, 1], [0, 1], color='navy', lw=2, linestyle='--')\n",
    "plt.xlim([0.0, 1.0])\n",
    "plt.ylim([0.0, 1.05])\n",
    "plt.xlabel('False Positive Rate')\n",
    "plt.ylabel('True Positive Rate')\n",
    "plt.title('Receiver Operating Characteristic (ROC) Curve')\n",
    "plt.legend(loc=\"lower right\")\n",
    "plt.show()"
   ]
  },
  {
   "cell_type": "code",
   "execution_count": null,
   "metadata": {},
   "outputs": [
    {
     "data": {
      "image/png": "[encoded data removed]",
      "text/plain": [
       "<Figure size 640x480 with 1 Axes>"
      ]
     },
     "metadata": {},
     "output_type": "display_data"
    }
   ],
   "source": [
    "plt.figure()\n",
    "plt.plot(recall_3_5_turbo, precision_3_5_turbo, color='blue', lw=2, label='Precision-Recall curve (AUC = %0.2f)' % pr_auc)\n",
    "plt.xlabel('Recall')\n",
    "plt.ylabel('Precision')\n",
    "plt.ylim([0.0, 1.05])\n",
    "plt.xlim([0.0, 1.0])\n",
    "plt.title('Precision-Recall Curve')\n",
    "plt.legend(loc=\"lower left\")\n",
    "plt.show()"
   ]
  },
  {
   "cell_type": "code",
   "execution_count": null,
   "metadata": {},
   "outputs": [
    {
     "data": {
      "image/png": "[encoded data removed]",
      "text/plain": [
       "<Figure size 640x480 with 2 Axes>"
      ]
     },
     "metadata": {},
     "output_type": "display_data"
    }
   ],
   "source": [
    "plt.figure()\n",
    "plt.imshow(conf_matrix_norm_3_5_turbo, interpolation='nearest', cmap=plt.cm.Blues)\n",
    "plt.title('Confusion Matrix')\n",
    "plt.colorbar()\n",
    "plt.xticks([0, 1], ['Predicted Negative', 'Predicted Positive'])\n",
    "plt.yticks([0, 1], ['Actual Negative', 'Actual Positive'])\n",
    "plt.xlabel('Predicted Label')\n",
    "plt.ylabel('Actual Label')\n",
    "plt.show()"
   ]
  },
  {
   "cell_type": "markdown",
   "metadata": {},
   "source": [
    "#### For Benefit Redundancy"
   ]
  },
  {
   "cell_type": "code",
   "execution_count": null,
   "metadata": {},
   "outputs": [],
   "source": [
    "ground_truth: np.array\n",
    "predicted_redundancy: np.array\n",
    "tp_3_5_turbo: int = 0\n",
    "fp_3_5_turbo: int = 0\n",
    "tn_3_5_turbo: int = 0\n",
    "fn_3_5_turbo: int = 0"
   ]
  },
  {
   "cell_type": "code",
   "execution_count": null,
   "metadata": {},
   "outputs": [],
   "source": [
    "ground_truth, predicted_redundancy, tp_3_5_turbo, fp_3_5_turbo, tn_3_5_turbo, fn_3_5_turbo = calc_benefit_redundancy(excel_data, chat_gpt_results['redundancy-model-gpt-3.5-turbo'])"
   ]
  },
  {
   "cell_type": "code",
   "execution_count": null,
   "metadata": {},
   "outputs": [
    {
     "name": "stdout",
     "output_type": "stream",
     "text": [
      "Ground Truth: [0]\n",
      "Predicted: [0]\n",
      "True Positives (TP): 1\n",
      "False Positives (FP): 0\n",
      "True Negatives (TN): 0\n",
      "False Negatives (FN): 0\n"
     ]
    }
   ],
   "source": [
    "print(\"Ground Truth:\",ground_truth)\n",
    "print(\"Predicted:\",predicted_redundancy)\n",
    "print(\"True Positives (TP):\",tp_3_5_turbo)\n",
    "print(\"False Positives (FP):\",fp_3_5_turbo)\n",
    "print(\"True Negatives (TN):\",tn_3_5_turbo)\n",
    "print(\"False Negatives (FN):\",fn_3_5_turbo)"
   ]
  },
  {
   "cell_type": "code",
   "execution_count": null,
   "metadata": {},
   "outputs": [
    {
     "name": "stderr",
     "output_type": "stream",
     "text": [
      "d:\\_Projects\\_myProjects\\RedundancyAndConflictAnalysis\\.venv\\Lib\\site-packages\\sklearn\\metrics\\_classification.py:386: UserWarning: A single label was found in 'y_true' and 'y_pred'. For the confusion matrix to have the correct shape, use the 'labels' parameter to pass all known labels.\n",
      "  warnings.warn(\n",
      "d:\\_Projects\\_myProjects\\RedundancyAndConflictAnalysis\\.venv\\Lib\\site-packages\\sklearn\\metrics\\_ranking.py:1137: UndefinedMetricWarning: No negative samples in y_true, false positive value should be meaningless\n",
      "  warnings.warn(\n"
     ]
    }
   ],
   "source": [
    "precision_3_5_turbo = precision_score(ground_truth, predicted_redundancy)\n",
    "recall_3_5_turbo = recall_score(ground_truth, predicted_redundancy)\n",
    "f1_3_5_turbo = f1_score(ground_truth, predicted_redundancy)\n",
    "accuracy_3_5_turbo = accuracy_score(ground_truth, predicted_redundancy)\n",
    "\n",
    "sensitivity_3_5_turbo = tp_3_5_turbo / (tp_3_5_turbo + fn_3_5_turbo + EPSILON) \n",
    "specificity_3_5_turbo = tn_3_5_turbo / (tn_3_5_turbo + fp_3_5_turbo + EPSILON)\n",
    "fpr_manual_3_5_turbo = fp_3_5_turbo / (fp_3_5_turbo + tn_3_5_turbo + EPSILON)\n",
    "\n",
    "#Confusion Matrix\n",
    "conf_matrix_3_5_turbo = confusion_matrix(ground_truth, predicted_redundancy)\n",
    "conf_matrix_norm_3_5_turbo = conf_matrix_3_5_turbo.astype('float') / conf_matrix_3_5_turbo.sum(axis=1)[:, np.newaxis]\n",
    "\n",
    "###Check the following if I did it correctly\n",
    "### Use maybe roc_auc_score\n",
    "#ROC Curve and AUC-ROC\n",
    "fpr_3_5_turbo, tpr_3_5_turbo, thresholds_3_5_turbo = roc_curve(ground_truth, predicted_redundancy)\n",
    "roc_auc_3_5_turbo = auc(fpr_3_5_turbo, tpr_3_5_turbo)\n",
    "# Precision-Recall Curve and AUC-PR\n",
    "precision_3_5_turbo, recall_3_5_turbo, __3_5_turbo = precision_recall_curve(ground_truth, predicted_redundancy)\n",
    "pr_auc = auc(recall_3_5_turbo, precision_3_5_turbo)\n"
   ]
  },
  {
   "cell_type": "code",
   "execution_count": null,
   "metadata": {},
   "outputs": [
    {
     "name": "stdout",
     "output_type": "stream",
     "text": [
      "Precision: [1. 1.]\n",
      "Recall: [1. 0.]\n",
      "F1: 1.0\n",
      "Accuracy: 1.0\n",
      "Sensitivity: 1.0\n",
      "Specificity: 0.0\n",
      "False positive rate: 0.0\n",
      "-----\n",
      "Confusion Matrix: [[1]]\n",
      "Normalised Confusion Matrix: [[1.]]\n",
      "-----\n",
      "AUC-ROC: nan\n",
      "AUC-PR: 1.0\n"
     ]
    }
   ],
   "source": [
    "print(\"Precision:\", precision_3_5_turbo)\n",
    "print(\"Recall:\",recall_3_5_turbo)\n",
    "print(\"F1:\",f1_3_5_turbo)\n",
    "print(\"Accuracy:\",accuracy_3_5_turbo)\n",
    "print(\"Sensitivity:\",sensitivity_3_5_turbo)\n",
    "print(\"Specificity:\",specificity_3_5_turbo)\n",
    "print(\"False positive rate:\", fpr_manual_3_5_turbo)\n",
    "print(\"-\" * 5)\n",
    "print(\"Confusion Matrix:\", conf_matrix_3_5_turbo)\n",
    "print(\"Normalised Confusion Matrix:\", conf_matrix_norm_3_5_turbo)\n",
    "print(\"-\" * 5)\n",
    "print(\"AUC-ROC:\", roc_auc_3_5_turbo)\n",
    "print(\"AUC-PR:\", pr_auc)"
   ]
  },
  {
   "cell_type": "code",
   "execution_count": null,
   "metadata": {},
   "outputs": [
    {
     "ename": "NameError",
     "evalue": "name 'roc_auc' is not defined",
     "output_type": "error",
     "traceback": [
      "\u001b[1;31m---------------------------------------------------------------------------\u001b[0m",
      "\u001b[1;31mNameError\u001b[0m                                 Traceback (most recent call last)",
      "Cell \u001b[1;32mIn[89], line 2\u001b[0m\n\u001b[0;32m      1\u001b[0m plt\u001b[38;5;241m.\u001b[39mfigure()\n\u001b[1;32m----> 2\u001b[0m plt\u001b[38;5;241m.\u001b[39mplot(fpr_3_5_turbo, tpr_3_5_turbo, color\u001b[38;5;241m=\u001b[39m\u001b[38;5;124m'\u001b[39m\u001b[38;5;124mdarkorange\u001b[39m\u001b[38;5;124m'\u001b[39m, lw\u001b[38;5;241m=\u001b[39m\u001b[38;5;241m2\u001b[39m, label\u001b[38;5;241m=\u001b[39m\u001b[38;5;124m'\u001b[39m\u001b[38;5;124mROC curve (AUC = \u001b[39m\u001b[38;5;132;01m%0.2f\u001b[39;00m\u001b[38;5;124m)\u001b[39m\u001b[38;5;124m'\u001b[39m \u001b[38;5;241m%\u001b[39m \u001b[43mroc_auc\u001b[49m)\n\u001b[0;32m      3\u001b[0m plt\u001b[38;5;241m.\u001b[39mplot([\u001b[38;5;241m0\u001b[39m, \u001b[38;5;241m1\u001b[39m], [\u001b[38;5;241m0\u001b[39m, \u001b[38;5;241m1\u001b[39m], color\u001b[38;5;241m=\u001b[39m\u001b[38;5;124m'\u001b[39m\u001b[38;5;124mnavy\u001b[39m\u001b[38;5;124m'\u001b[39m, lw\u001b[38;5;241m=\u001b[39m\u001b[38;5;241m2\u001b[39m, linestyle\u001b[38;5;241m=\u001b[39m\u001b[38;5;124m'\u001b[39m\u001b[38;5;124m--\u001b[39m\u001b[38;5;124m'\u001b[39m)\n\u001b[0;32m      4\u001b[0m plt\u001b[38;5;241m.\u001b[39mxlim([\u001b[38;5;241m0.0\u001b[39m, \u001b[38;5;241m1.0\u001b[39m])\n",
      "\u001b[1;31mNameError\u001b[0m: name 'roc_auc' is not defined"
     ]
    },
    {
     "data": {
      "text/plain": [
       "<Figure size 640x480 with 0 Axes>"
      ]
     },
     "metadata": {},
     "output_type": "display_data"
    }
   ],
   "source": [
    "plt.figure()\n",
    "plt.plot(fpr_3_5_turbo, tpr_3_5_turbo, color='darkorange', lw=2, label='ROC curve (AUC = %0.2f)' % roc_auc)\n",
    "plt.plot([0, 1], [0, 1], color='navy', lw=2, linestyle='--')\n",
    "plt.xlim([0.0, 1.0])\n",
    "plt.ylim([0.0, 1.05])\n",
    "plt.xlabel('False Positive Rate')\n",
    "plt.ylabel('True Positive Rate')\n",
    "plt.title('Receiver Operating Characteristic (ROC) Curve')\n",
    "plt.legend(loc=\"lower right\")\n",
    "plt.show()"
   ]
  },
  {
   "cell_type": "code",
   "execution_count": null,
   "metadata": {},
   "outputs": [
    {
     "data": {
      "image/png": "[encoded data removed]",
      "text/plain": [
       "<Figure size 640x480 with 1 Axes>"
      ]
     },
     "metadata": {},
     "output_type": "display_data"
    }
   ],
   "source": [
    "plt.figure()\n",
    "plt.plot(recall_3_5_turbo, precision_3_5_turbo, color='blue', lw=2, label='Precision-Recall curve (AUC = %0.2f)' % pr_auc)\n",
    "plt.xlabel('Recall')\n",
    "plt.ylabel('Precision')\n",
    "plt.ylim([0.0, 1.05])\n",
    "plt.xlim([0.0, 1.0])\n",
    "plt.title('Precision-Recall Curve')\n",
    "plt.legend(loc=\"lower left\")\n",
    "plt.show()"
   ]
  },
  {
   "cell_type": "code",
   "execution_count": null,
   "metadata": {},
   "outputs": [
    {
     "data": {
      "image/png": "[encoded data removed]",
      "text/plain": [
       "<Figure size 640x480 with 2 Axes>"
      ]
     },
     "metadata": {},
     "output_type": "display_data"
    }
   ],
   "source": [
    "plt.figure()\n",
    "plt.imshow(conf_matrix_norm_3_5_turbo, interpolation='nearest', cmap=plt.cm.Blues)\n",
    "plt.title('Confusion Matrix')\n",
    "plt.colorbar()\n",
    "plt.xticks([0, 1], ['Predicted Negative', 'Predicted Positive'])\n",
    "plt.yticks([0, 1], ['Actual Negative', 'Actual Positive'])\n",
    "plt.xlabel('Predicted Label')\n",
    "plt.ylabel('Actual Label')\n",
    "plt.show()"
   ]
  },
  {
   "cell_type": "markdown",
   "metadata": {},
   "source": [
    "#### redundancy-model-gpt-4-turbo"
   ]
  },
  {
   "cell_type": "markdown",
   "metadata": {},
   "source": [
    "#### For Main Part Redundancy (Full/Partial?)"
   ]
  },
  {
   "cell_type": "code",
   "execution_count": null,
   "metadata": {},
   "outputs": [],
   "source": [
    "ground_truth: np.array\n",
    "predicted_redundancy: np.array\n",
    "tp_4_turbo: int = 0\n",
    "fp_4_turbo: int = 0\n",
    "tn_4_turbo: int = 0\n",
    "fn_4_turbo: int = 0"
   ]
  },
  {
   "cell_type": "code",
   "execution_count": null,
   "metadata": {},
   "outputs": [],
   "source": [
    "ground_truth, predicted_redundancy, tp_4_turbo, fp_4_turbo, tn_4_turbo, fn_4_turbo = calc_main_part_redundancy(excel_data, chat_gpt_results['redundancy-model-gpt-4-turbo'])"
   ]
  },
  {
   "cell_type": "code",
   "execution_count": null,
   "metadata": {},
   "outputs": [
    {
     "name": "stdout",
     "output_type": "stream",
     "text": [
      "Ground Truth: [0]\n",
      "Predicted Redundancy: [0]\n",
      "True Positives (TP): 0\n",
      "False Positives (FP): 0\n",
      "True Negatives (TN): 0\n",
      "False Negatives (FN): 0\n"
     ]
    }
   ],
   "source": [
    "print(\"Ground Truth:\", ground_truth)\n",
    "print(\"Predicted Redundancy:\", predicted_redundancy)\n",
    "print(\"True Positives (TP):\", tp_4_turbo)\n",
    "print(\"False Positives (FP):\", fp_4_turbo)\n",
    "print(\"True Negatives (TN):\", tn_4_turbo)\n",
    "print(\"False Negatives (FN):\", fn_4_turbo)"
   ]
  },
  {
   "cell_type": "code",
   "execution_count": null,
   "metadata": {},
   "outputs": [
    {
     "name": "stderr",
     "output_type": "stream",
     "text": [
      "d:\\_Projects\\_myProjects\\RedundancyAndConflictAnalysis\\.venv\\Lib\\site-packages\\sklearn\\metrics\\_classification.py:1509: UndefinedMetricWarning: Precision is ill-defined and being set to 0.0 due to no predicted samples. Use `zero_division` parameter to control this behavior.\n",
      "  _warn_prf(average, modifier, f\"{metric.capitalize()} is\", len(result))\n",
      "d:\\_Projects\\_myProjects\\RedundancyAndConflictAnalysis\\.venv\\Lib\\site-packages\\sklearn\\metrics\\_classification.py:1509: UndefinedMetricWarning: Recall is ill-defined and being set to 0.0 due to no true samples. Use `zero_division` parameter to control this behavior.\n",
      "  _warn_prf(average, modifier, f\"{metric.capitalize()} is\", len(result))\n",
      "d:\\_Projects\\_myProjects\\RedundancyAndConflictAnalysis\\.venv\\Lib\\site-packages\\sklearn\\metrics\\_classification.py:1509: UndefinedMetricWarning: F-score is ill-defined and being set to 0.0 due to no true nor predicted samples. Use `zero_division` parameter to control this behavior.\n",
      "  _warn_prf(average, modifier, f\"{metric.capitalize()} is\", len(result))\n",
      "d:\\_Projects\\_myProjects\\RedundancyAndConflictAnalysis\\.venv\\Lib\\site-packages\\sklearn\\metrics\\_classification.py:386: UserWarning: A single label was found in 'y_true' and 'y_pred'. For the confusion matrix to have the correct shape, use the 'labels' parameter to pass all known labels.\n",
      "  warnings.warn(\n",
      "d:\\_Projects\\_myProjects\\RedundancyAndConflictAnalysis\\.venv\\Lib\\site-packages\\sklearn\\metrics\\_ranking.py:1146: UndefinedMetricWarning: No positive samples in y_true, true positive value should be meaningless\n",
      "  warnings.warn(\n",
      "d:\\_Projects\\_myProjects\\RedundancyAndConflictAnalysis\\.venv\\Lib\\site-packages\\sklearn\\metrics\\_ranking.py:993: UserWarning: No positive class found in y_true, recall is set to one for all thresholds.\n",
      "  warnings.warn(\n"
     ]
    }
   ],
   "source": [
    "precision_4_turbo = precision_score(ground_truth, predicted_redundancy)\n",
    "recall_4_turbo = recall_score(ground_truth, predicted_redundancy)\n",
    "f1_4_turbo = f1_score(ground_truth, predicted_redundancy)\n",
    "accuracy_4_turbo = accuracy_score(ground_truth, predicted_redundancy)\n",
    "\n",
    "sensitivity_4_turbo = tp_4_turbo / (tp_4_turbo + fn_4_turbo + EPSILON) \n",
    "specificity_4_turbo = tn_4_turbo / (tn_4_turbo + fp_4_turbo + EPSILON)\n",
    "fpr_manual_4_turbo = fp_4_turbo / (fp_3_5_turbo + tn_4_turbo + EPSILON)\n",
    "\n",
    "#Confusion Matrix\n",
    "conf_matrix_4_turbo = confusion_matrix(ground_truth, predicted_redundancy)\n",
    "conf_matrix_norm_4_turbo = conf_matrix_4_turbo.astype('float') / conf_matrix_4_turbo.sum(axis=1)[:, np.newaxis]\n",
    "\n",
    "###Check the following if I did it correctly\n",
    "### Use maybe roc_auc_score\n",
    "#ROC Curve and AUC-ROC\n",
    "fpr_4_turbo, tpr_4_turbo, thresholds_4_turbo = roc_curve(ground_truth, predicted_redundancy)\n",
    "roc_auc_4_turbo = auc(fpr_4_turbo, tpr_4_turbo)\n",
    "# Precision-Recall Curve and AUC-PR\n",
    "precision_4_turbo, recall_4_turbo, __4_turbo = precision_recall_curve(ground_truth, predicted_redundancy)\n",
    "pr_auc = auc(recall_4_turbo, precision_4_turbo)\n"
   ]
  },
  {
   "cell_type": "code",
   "execution_count": null,
   "metadata": {},
   "outputs": [
    {
     "name": "stdout",
     "output_type": "stream",
     "text": [
      "Precision: [0. 1.]\n",
      "Recall: [1. 0.]\n",
      "F1: 0.0\n",
      "Accuracy: 1.0\n",
      "Sensitivity: 0.0\n",
      "Specificity: 0.0\n",
      "False positive rate: 0.0\n",
      "-----\n",
      "Confusion Matrix: [[1]]\n",
      "Normalised Confusion Matrix: [[1.]]\n",
      "-----\n",
      "AUC-ROC: nan\n",
      "AUC-PR: 0.5\n"
     ]
    }
   ],
   "source": [
    "print(\"Precision:\", precision_4_turbo)\n",
    "print(\"Recall:\",recall_4_turbo)\n",
    "print(\"F1:\",f1_4_turbo)\n",
    "print(\"Accuracy:\",accuracy_4_turbo)\n",
    "print(\"Sensitivity:\",sensitivity_4_turbo)\n",
    "print(\"Specificity:\",specificity_4_turbo)\n",
    "print(\"False positive rate:\", fpr_manual_4_turbo)\n",
    "print(\"-\" * 5)\n",
    "print(\"Confusion Matrix:\", conf_matrix_4_turbo)\n",
    "print(\"Normalised Confusion Matrix:\", conf_matrix_norm_4_turbo)\n",
    "print(\"-\" * 5)\n",
    "print(\"AUC-ROC:\", roc_auc_4_turbo)\n",
    "print(\"AUC-PR:\", pr_auc)"
   ]
  },
  {
   "cell_type": "code",
   "execution_count": null,
   "metadata": {},
   "outputs": [
    {
     "ename": "NameError",
     "evalue": "name 'roc_auc' is not defined",
     "output_type": "error",
     "traceback": [
      "\u001b[1;31m---------------------------------------------------------------------------\u001b[0m",
      "\u001b[1;31mNameError\u001b[0m                                 Traceback (most recent call last)",
      "Cell \u001b[1;32mIn[99], line 2\u001b[0m\n\u001b[0;32m      1\u001b[0m plt\u001b[38;5;241m.\u001b[39mfigure()\n\u001b[1;32m----> 2\u001b[0m plt\u001b[38;5;241m.\u001b[39mplot(fpr_4_turbo, tpr_4_turbo, color\u001b[38;5;241m=\u001b[39m\u001b[38;5;124m'\u001b[39m\u001b[38;5;124mdarkorange\u001b[39m\u001b[38;5;124m'\u001b[39m, lw\u001b[38;5;241m=\u001b[39m\u001b[38;5;241m2\u001b[39m, label\u001b[38;5;241m=\u001b[39m\u001b[38;5;124m'\u001b[39m\u001b[38;5;124mROC curve (AUC = \u001b[39m\u001b[38;5;132;01m%0.2f\u001b[39;00m\u001b[38;5;124m)\u001b[39m\u001b[38;5;124m'\u001b[39m \u001b[38;5;241m%\u001b[39m \u001b[43mroc_auc\u001b[49m)\n\u001b[0;32m      3\u001b[0m plt\u001b[38;5;241m.\u001b[39mplot([\u001b[38;5;241m0\u001b[39m, \u001b[38;5;241m1\u001b[39m], [\u001b[38;5;241m0\u001b[39m, \u001b[38;5;241m1\u001b[39m], color\u001b[38;5;241m=\u001b[39m\u001b[38;5;124m'\u001b[39m\u001b[38;5;124mnavy\u001b[39m\u001b[38;5;124m'\u001b[39m, lw\u001b[38;5;241m=\u001b[39m\u001b[38;5;241m2\u001b[39m, linestyle\u001b[38;5;241m=\u001b[39m\u001b[38;5;124m'\u001b[39m\u001b[38;5;124m--\u001b[39m\u001b[38;5;124m'\u001b[39m)\n\u001b[0;32m      4\u001b[0m plt\u001b[38;5;241m.\u001b[39mxlim([\u001b[38;5;241m0.0\u001b[39m, \u001b[38;5;241m1.0\u001b[39m])\n",
      "\u001b[1;31mNameError\u001b[0m: name 'roc_auc' is not defined"
     ]
    },
    {
     "data": {
      "text/plain": [
       "<Figure size 640x480 with 0 Axes>"
      ]
     },
     "metadata": {},
     "output_type": "display_data"
    }
   ],
   "source": [
    "plt.figure()\n",
    "plt.plot(fpr_4_turbo, tpr_4_turbo, color='darkorange', lw=2, label='ROC curve (AUC = %0.2f)' % roc_auc)\n",
    "plt.plot([0, 1], [0, 1], color='navy', lw=2, linestyle='--')\n",
    "plt.xlim([0.0, 1.0])\n",
    "plt.ylim([0.0, 1.05])\n",
    "plt.xlabel('False Positive Rate')\n",
    "plt.ylabel('True Positive Rate')\n",
    "plt.title('Receiver Operating Characteristic (ROC) Curve')\n",
    "plt.legend(loc=\"lower right\")\n",
    "plt.show()"
   ]
  },
  {
   "cell_type": "code",
   "execution_count": null,
   "metadata": {},
   "outputs": [
    {
     "data": {
      "image/png": "[encoded data removed]",
      "text/plain": [
       "<Figure size 640x480 with 1 Axes>"
      ]
     },
     "metadata": {},
     "output_type": "display_data"
    }
   ],
   "source": [
    "plt.figure()\n",
    "plt.plot(recall_3_5_turbo, precision_3_5_turbo, color='blue', lw=2, label='Precision-Recall curve (AUC = %0.2f)' % pr_auc)\n",
    "plt.xlabel('Recall')\n",
    "plt.ylabel('Precision')\n",
    "plt.ylim([0.0, 1.05])\n",
    "plt.xlim([0.0, 1.0])\n",
    "plt.title('Precision-Recall Curve')\n",
    "plt.legend(loc=\"lower left\")\n",
    "plt.show()"
   ]
  },
  {
   "cell_type": "code",
   "execution_count": null,
   "metadata": {},
   "outputs": [
    {
     "data": {
      "image/png": "[encoded data removed]",
      "text/plain": [
       "<Figure size 640x480 with 2 Axes>"
      ]
     },
     "metadata": {},
     "output_type": "display_data"
    }
   ],
   "source": [
    "plt.figure()\n",
    "plt.imshow(conf_matrix_norm_3_5_turbo, interpolation='nearest', cmap=plt.cm.Blues)\n",
    "plt.title('Confusion Matrix')\n",
    "plt.colorbar()\n",
    "plt.xticks([0, 1], ['Predicted Negative', 'Predicted Positive'])\n",
    "plt.yticks([0, 1], ['Actual Negative', 'Actual Positive'])\n",
    "plt.xlabel('Predicted Label')\n",
    "plt.ylabel('Actual Label')\n",
    "plt.show()"
   ]
  },
  {
   "cell_type": "markdown",
   "metadata": {},
   "source": [
    "#### For Benefit Redundancy (Full/Partial?)"
   ]
  },
  {
   "cell_type": "code",
   "execution_count": null,
   "metadata": {},
   "outputs": [],
   "source": [
    "ground_truth: np.array\n",
    "predicted_redundancy: np.array\n",
    "tp_4_turbo: int = 0\n",
    "fp_4_turbo: int = 0\n",
    "tn_4_turbo: int = 0\n",
    "fn_4_turbo: int = 0"
   ]
  },
  {
   "cell_type": "code",
   "execution_count": null,
   "metadata": {},
   "outputs": [],
   "source": [
    "ground_truth, predicted_redundancy, tp_4_turbo, fp_4_turbo, tn_4_turbo, fn_4_turbo = calc_main_part_redundancy(excel_data, chat_gpt_results['redundancy-model-gpt-4-turbo'])"
   ]
  },
  {
   "cell_type": "code",
   "execution_count": null,
   "metadata": {},
   "outputs": [
    {
     "name": "stdout",
     "output_type": "stream",
     "text": [
      "Ground Truth: [0]\n",
      "Predicted Redundancy: [0]\n",
      "True Positives (TP): 0\n",
      "False Positives (FP): 0\n",
      "True Negatives (TN): 0\n",
      "False Negatives (FN): 0\n"
     ]
    }
   ],
   "source": [
    "print(\"Ground Truth:\", ground_truth)\n",
    "print(\"Predicted Redundancy:\", predicted_redundancy)\n",
    "print(\"True Positives (TP):\", tp_4_turbo)\n",
    "print(\"False Positives (FP):\", fp_4_turbo)\n",
    "print(\"True Negatives (TN):\", tn_4_turbo)\n",
    "print(\"False Negatives (FN):\", fn_4_turbo)"
   ]
  },
  {
   "cell_type": "code",
   "execution_count": null,
   "metadata": {},
   "outputs": [
    {
     "name": "stderr",
     "output_type": "stream",
     "text": [
      "d:\\_Projects\\_myProjects\\RedundancyAndConflictAnalysis\\.venv\\Lib\\site-packages\\sklearn\\metrics\\_classification.py:1509: UndefinedMetricWarning: Precision is ill-defined and being set to 0.0 due to no predicted samples. Use `zero_division` parameter to control this behavior.\n",
      "  _warn_prf(average, modifier, f\"{metric.capitalize()} is\", len(result))\n",
      "d:\\_Projects\\_myProjects\\RedundancyAndConflictAnalysis\\.venv\\Lib\\site-packages\\sklearn\\metrics\\_classification.py:1509: UndefinedMetricWarning: Recall is ill-defined and being set to 0.0 due to no true samples. Use `zero_division` parameter to control this behavior.\n",
      "  _warn_prf(average, modifier, f\"{metric.capitalize()} is\", len(result))\n",
      "d:\\_Projects\\_myProjects\\RedundancyAndConflictAnalysis\\.venv\\Lib\\site-packages\\sklearn\\metrics\\_classification.py:1509: UndefinedMetricWarning: F-score is ill-defined and being set to 0.0 due to no true nor predicted samples. Use `zero_division` parameter to control this behavior.\n",
      "  _warn_prf(average, modifier, f\"{metric.capitalize()} is\", len(result))\n",
      "d:\\_Projects\\_myProjects\\RedundancyAndConflictAnalysis\\.venv\\Lib\\site-packages\\sklearn\\metrics\\_classification.py:386: UserWarning: A single label was found in 'y_true' and 'y_pred'. For the confusion matrix to have the correct shape, use the 'labels' parameter to pass all known labels.\n",
      "  warnings.warn(\n",
      "d:\\_Projects\\_myProjects\\RedundancyAndConflictAnalysis\\.venv\\Lib\\site-packages\\sklearn\\metrics\\_ranking.py:1146: UndefinedMetricWarning: No positive samples in y_true, true positive value should be meaningless\n",
      "  warnings.warn(\n",
      "d:\\_Projects\\_myProjects\\RedundancyAndConflictAnalysis\\.venv\\Lib\\site-packages\\sklearn\\metrics\\_ranking.py:993: UserWarning: No positive class found in y_true, recall is set to one for all thresholds.\n",
      "  warnings.warn(\n"
     ]
    }
   ],
   "source": [
    "precision_4_turbo = precision_score(ground_truth, predicted_redundancy)\n",
    "recall_4_turbo = recall_score(ground_truth, predicted_redundancy)\n",
    "f1_4_turbo = f1_score(ground_truth, predicted_redundancy)\n",
    "accuracy_4_turbo = accuracy_score(ground_truth, predicted_redundancy)\n",
    "\n",
    "sensitivity_4_turbo = tp_4_turbo / (tp_4_turbo + fn_4_turbo + EPSILON) \n",
    "specificity_4_turbo = tn_4_turbo / (tn_4_turbo + fp_4_turbo + EPSILON)\n",
    "fpr_manual_4_turbo = fp_4_turbo / (fp_3_5_turbo + tn_4_turbo  + EPSILON)\n",
    "\n",
    "#Confusion Matrix\n",
    "conf_matrix_4_turbo = confusion_matrix(ground_truth, predicted_redundancy)\n",
    "conf_matrix_norm_4_turbo = conf_matrix_4_turbo.astype('float') / conf_matrix_4_turbo.sum(axis=1)[:, np.newaxis]\n",
    "\n",
    "###Check the following if I did it correctly\n",
    "### Use maybe roc_auc_score\n",
    "#ROC Curve and AUC-ROC\n",
    "fpr_4_turbo, tpr_4_turbo, thresholds_4_turbo = roc_curve(ground_truth, predicted_redundancy)\n",
    "roc_auc_4_turbo = auc(fpr_4_turbo, tpr_4_turbo)\n",
    "# Precision-Recall Curve and AUC-PR\n",
    "precision_4_turbo, recall_4_turbo, __4_turbo = precision_recall_curve(ground_truth, predicted_redundancy)\n",
    "pr_auc = auc(recall_4_turbo, precision_4_turbo)"
   ]
  },
  {
   "cell_type": "code",
   "execution_count": null,
   "metadata": {},
   "outputs": [
    {
     "name": "stdout",
     "output_type": "stream",
     "text": [
      "Precision: [0. 1.]\n",
      "Recall: [1. 0.]\n",
      "F1: 0.0\n",
      "Accuracy: 1.0\n",
      "Sensitivity: 0.0\n",
      "Specificity: 0.0\n",
      "False positive rate: 0.0\n",
      "-----\n",
      "Confusion Matrix: [[1]]\n",
      "Normalised Confusion Matrix: [[1.]]\n",
      "-----\n",
      "AUC-ROC: nan\n",
      "AUC-PR: 0.5\n"
     ]
    }
   ],
   "source": [
    "print(\"Precision:\", precision_4_turbo)\n",
    "print(\"Recall:\",recall_4_turbo)\n",
    "print(\"F1:\",f1_4_turbo)\n",
    "print(\"Accuracy:\",accuracy_4_turbo)\n",
    "print(\"Sensitivity:\",sensitivity_4_turbo)\n",
    "print(\"Specificity:\",specificity_4_turbo)\n",
    "print(\"False positive rate:\", fpr_manual_4_turbo)\n",
    "print(\"-\" * 5)\n",
    "print(\"Confusion Matrix:\", conf_matrix_4_turbo)\n",
    "print(\"Normalised Confusion Matrix:\", conf_matrix_norm_4_turbo)\n",
    "print(\"-\" * 5)\n",
    "print(\"AUC-ROC:\", roc_auc_4_turbo)\n",
    "print(\"AUC-PR:\", pr_auc)"
   ]
  },
  {
   "cell_type": "code",
   "execution_count": null,
   "metadata": {},
   "outputs": [
    {
     "data": {
      "image/png": "[encoded data removed]",
      "text/plain": [
       "<Figure size 640x480 with 1 Axes>"
      ]
     },
     "metadata": {},
     "output_type": "display_data"
    }
   ],
   "source": [
    "plt.figure()\n",
    "plt.plot(fpr_4_turbo, tpr_4_turbo, color='darkorange', lw=2, label='ROC curve (AUC = %0.2f)' % roc_auc)\n",
    "plt.plot([0, 1], [0, 1], color='navy', lw=2, linestyle='--')\n",
    "plt.xlim([0.0, 1.0])\n",
    "plt.ylim([0.0, 1.05])\n",
    "plt.xlabel('False Positive Rate')\n",
    "plt.ylabel('True Positive Rate')\n",
    "plt.title('Receiver Operating Characteristic (ROC) Curve')\n",
    "plt.legend(loc=\"lower right\")\n",
    "plt.show()"
   ]
  },
  {
   "cell_type": "code",
   "execution_count": null,
   "metadata": {},
   "outputs": [
    {
     "data": {
      "image/png": "[encoded data removed]",
      "text/plain": [
       "<Figure size 640x480 with 1 Axes>"
      ]
     },
     "metadata": {},
     "output_type": "display_data"
    }
   ],
   "source": [
    "plt.figure()\n",
    "plt.plot(recall_4_turbo, precision_4_turbo, color='blue', lw=2, label='Precision-Recall curve (AUC = %0.2f)' % pr_auc)\n",
    "plt.xlabel('Recall')\n",
    "plt.ylabel('Precision')\n",
    "plt.ylim([0.0, 1.05])\n",
    "plt.xlim([0.0, 1.0])\n",
    "plt.title('Precision-Recall Curve')\n",
    "plt.legend(loc=\"lower left\")\n",
    "plt.show()"
   ]
  },
  {
   "cell_type": "code",
   "execution_count": null,
   "metadata": {},
   "outputs": [
    {
     "data": {
      "image/png": "[encoded data removed]",
      "text/plain": [
       "<Figure size 640x480 with 2 Axes>"
      ]
     },
     "metadata": {},
     "output_type": "display_data"
    }
   ],
   "source": [
    "plt.figure()\n",
    "plt.imshow(conf_matrix_norm_4_turbo, interpolation='nearest', cmap=plt.cm.Blues)\n",
    "plt.title('Confusion Matrix')\n",
    "plt.colorbar()\n",
    "plt.xticks([0, 1], ['Predicted Negative', 'Predicted Positive'])\n",
    "plt.yticks([0, 1], ['Actual Negative', 'Actual Positive'])\n",
    "plt.xlabel('Predicted Label')\n",
    "plt.ylabel('Actual Label')\n",
    "plt.show()"
   ]
  },
  {
   "cell_type": "markdown",
   "metadata": {},
   "source": [
    "## Analysing the Datasets for finding the false positives and false negatives and storing into an .xlsx file\n",
    "This part can be used for further human analyses to determine for where the difference of the formal tool and ChatGPT chatbot is."
   ]
  },
  {
   "cell_type": "code",
   "execution_count": 166,
   "metadata": {},
   "outputs": [],
   "source": [
    "def split_and_remove_prefix(snippet: pd.DataFrame) -> tuple[int, int]:\n",
    "    PATTERN = r'^user_story_\\d+: #\\w+#'\n",
    "    formal_text_one, formal_text_two = (snippet.iloc[0]['User Stories Texts']).split(\"\\n\\n\")\n",
    "    formal_text_one = re.sub(PATTERN, '', formal_text_one)\n",
    "    formal_text_two = re.sub(PATTERN, '', formal_text_two)\n",
    "    return formal_text_one, formal_text_two\n",
    "\n",
    "def collecting_reasons_and_references(items: list) -> tuple[str, str, str]:\n",
    "    reason_describtions:str = \"\"\n",
    "    reference_to_original_text_one:str  = \"\"\n",
    "    reference_to_original_text_two:str = \"\"\n",
    "    for idx, item in enumerate(items):\n",
    "        reason_describtions += f'{idx}.) {item['reasonDescribtion']}\\n'\n",
    "        reference_to_original_text_one += f'{idx}.) {item['referenceToOriginalText'][0]}\\n\\n'\n",
    "        reference_to_original_text_two += f'{idx}.) {item['referenceToOriginalText'][1]}\\n\\n'\n",
    "    return reason_describtions, reference_to_original_text_one, reference_to_original_text_two\n",
    "\n",
    "def raise_if_duplicated_usid_in_original_data(n: int, s1: str, s2: str):\n",
    "    raise Exception(f'The User Story {n} appears at last twice. Once in {s1} and second in {s2}.')"
   ]
  },
  {
   "cell_type": "markdown",
   "metadata": {},
   "source": [
    "### Getting false positives and false negatives"
   ]
  },
  {
   "cell_type": "code",
   "execution_count": 167,
   "metadata": {},
   "outputs": [],
   "source": [
    "REDUNDANCY_CATEGORIES_FALSE_TYPE = [\"False Positive\", \"False Negative\"]\n",
    "REDUNDANCY_CATEGORIES_MAIN_PART_BENEFIT = [\"Main Part\", \"Benefit\"]\n",
    "\n",
    "\n",
    "DF_SHOW_FALSE_POSITIVES_NEGATIVES_DTYPES = {\n",
    "    'Execution Run': 'int',\n",
    "    'Model': 'str',\n",
    "    'False Type': pd.CategoricalDtype(categories=REDUNDANCY_CATEGORIES_FALSE_TYPE),\n",
    "    'Main Part or Benefit': pd.CategoricalDtype(categories=REDUNDANCY_CATEGORIES_MAIN_PART_BENEFIT),\n",
    "    'User Story Id 1': 'int',\n",
    "    'User Story Id 2': 'int',\n",
    "    'Reason from ChatGPT': 'str',\n",
    "    'Refered Text 1 by ChatGPT': 'str',\n",
    "    'Refered Text 1 from formal Approach': 'str',\n",
    "    'Refered Text 2 by ChatGPT': 'str',\n",
    "    'Refered Text 2 from formal Approach': 'str'\n",
    "}\n",
    "df_show_false_positives_negatives = pd.DataFrame(columns=DF_SHOW_FALSE_POSITIVES_NEGATIVES_DTYPES.keys()).astype(dtype=DF_SHOW_FALSE_POSITIVES_NEGATIVES_DTYPES)"
   ]
  },
  {
   "cell_type": "code",
   "execution_count": 174,
   "metadata": {},
   "outputs": [],
   "source": [
    "def fill_df_show_false_positives_negatives(local_df_show_false_positives_negatives: pd.core.series.Series, model: str, chat_gpt_input_category: dict) -> pd.DataFrame:\n",
    "    CATEGORY_FALSE_POSITIVE = \"False Positive\"\n",
    "    CATEGORY_FALSE_NEGATIVE = \"False Negative\"\n",
    "    CATEGORY_MAIN_PART = \"Main Part\"\n",
    "    CATEGORY_BENEFIT = \"Benefit\"\n",
    "    ORIGINAL_DATASET = load_datasets_add_line_counter()\n",
    "    \n",
    "    def add_row_to_show_false_positives(local_df_show_false_positives_negatives: pd.DataFrame, execution_run: int, model: str, false_type: str, main_or_benefit: str, usid_one: int, \n",
    "                                    usid_two: int, reason_chat: str, text_chat_one: str, text_chat_two: str, text_formal_one: str, text_formal_two: str) -> pd.DataFrame:\n",
    "        new_row = pd.DataFrame({\n",
    "            'Execution Run':[execution_run],\n",
    "            'Model': [model],\n",
    "            'False Type': pd.Categorical([false_type], categories=REDUNDANCY_CATEGORIES_FALSE_TYPE),\n",
    "            'Main Part or Benefit': pd.Categorical([main_or_benefit], categories=REDUNDANCY_CATEGORIES_MAIN_PART_BENEFIT),\n",
    "            'User Story Id 1': [usid_one],\n",
    "            'User Story Id 2': [usid_two],\n",
    "            'Reason from ChatGPT': [reason_chat],\n",
    "            'Refered Text 1 by ChatGPT': [text_chat_one],\n",
    "            'Refered Text 1 from formal Approach': [text_formal_one],\n",
    "            'Refered Text 2 by ChatGPT': [text_chat_two],\n",
    "            'Refered Text 2 from formal Approach': [text_formal_two]\n",
    "        })\n",
    "        return pd.concat([local_df_show_false_positives_negatives, new_row], ignore_index=True)\n",
    "    \n",
    "    original_text_one: str = ''\n",
    "    original_text_two: str = ''\n",
    "    original_text_one_found_in: str = ''\n",
    "    original_text_two_found_in: str = ''\n",
    "    usidone: int = 0\n",
    "    usidtwo: int = 0\n",
    "    run: int = 0\n",
    "    \n",
    "    for file in chat_gpt_input_category.values():\n",
    "        file_content = file\n",
    "        for item in file_content:\n",
    "            # Collecting the informations from the .json-files\n",
    "            reason_describtions_main_part, reference_to_original_text_one_main_part, reference_to_original_text_two_main_part = collecting_reasons_and_references(item['mainPartRedundancies'])\n",
    "            reason_describtions_benefit, reference_to_original_text_one_benefit, reference_to_original_text_two_benefit = collecting_reasons_and_references(item['benefitRedundancies'])\n",
    "            usidone = 0\n",
    "            usidtwo = 0\n",
    "            run = 0\n",
    "            try:\n",
    "                usidone: int = int(item['relatedStories'][0])\n",
    "                usidtwo: int = int(item['relatedStories'][1])\n",
    "                run: int = list(chat_gpt_input_category.keys())[0].split(\"_\")[0].strip()\n",
    "            except ValueError:\n",
    "                raise Exception(\"Conversion failed: String did not contain a valid integer.\")\n",
    "            \n",
    "            # Searching for the entry in the ground truth\n",
    "            filtered_rows = excel_data[(excel_data['Corresponding USID 1'].astype(int) == int(item['relatedStories'][0])) \n",
    "                                        & (excel_data['Corresponding USID 2'].astype(int) == int(item['relatedStories'][1]))]\n",
    "            if (filtered_rows.shape[0] == 1):\n",
    "                # Collecting the informations from the ground truth\n",
    "                formal_text_one, formal_text_two = split_and_remove_prefix(filtered_rows)\n",
    "                \n",
    "                if not bool(item['redundantMainPart']) and bool(excel_data.iat[0, 6]):\n",
    "                    local_df_show_false_positives_negatives = add_row_to_show_false_positives(local_df_show_false_positives_negatives, run,\n",
    "                                                                                               model, CATEGORY_FALSE_NEGATIVE, \n",
    "                                                                                               CATEGORY_MAIN_PART, usidone, usidtwo,\n",
    "                                                                                               reason_describtions_main_part,\n",
    "                                                                                               reference_to_original_text_one_main_part, \n",
    "                                                                                               reference_to_original_text_two_main_part, \n",
    "                                                                                               formal_text_one,\n",
    "                                                                                               formal_text_two)\n",
    "                if not bool(item['redundantBenefit']) and bool(excel_data.iat[0, 7]):\n",
    "                    local_df_show_false_positives_negatives = add_row_to_show_false_positives(local_df_show_false_positives_negatives, run,\n",
    "                                                                                               model, CATEGORY_FALSE_NEGATIVE, \n",
    "                                                                                               CATEGORY_BENEFIT, usidone, usidtwo,\n",
    "                                                                                               reason_describtions_benefit,\n",
    "                                                                                               reference_to_original_text_one_benefit, \n",
    "                                                                                               reference_to_original_text_two_benefit, \n",
    "                                                                                               formal_text_one,\n",
    "                                                                                               formal_text_two)\n",
    "            elif (filtered_rows.shape[0] >= 2):\n",
    "                raise Exception(\"There are more than or equal to 2 filtered rows.\\n\" + f\"JSON File: {item}\\n\" + f\"Excel{filtered_rows}\")\n",
    "            else:\n",
    "                # Searching for the original text in the original data\n",
    "                original_text_one = ''\n",
    "                original_text_one_found_in = ''\n",
    "                original_text_two = ''\n",
    "                original_text_two_found_in = ''\n",
    "                for key, values in ORIGINAL_DATASET.items():\n",
    "                    for value in values:\n",
    "                        if (value['id'] == usidone):\n",
    "                            if original_text_one:\n",
    "                                raise_if_duplicated_usid_in_original_data(value['id'], original_text_one_found_in, key)\n",
    "                            original_text_one = value['text']\n",
    "                            original_text_one_found_in = key\n",
    "                        if (value['id'] == usidtwo):\n",
    "                            if original_text_two:\n",
    "                                raise_if_duplicated_usid_in_original_data(value['id'], original_text_two_found_in, key)\n",
    "                            original_text_two = value['text']\n",
    "                            original_text_two_found_in = key\n",
    "                if not original_text_one:\n",
    "                    original_text_one = \"No text found in source\"               \n",
    "                if not original_text_two:\n",
    "                    original_text_two = \"No text found in source\"  \n",
    "                \n",
    "                #Searching for the false positives. Thus, the reveresed case is also check.\n",
    "                if bool(item['redundantMainPart']):\n",
    "                    local_df_show_false_positives_negatives = add_row_to_show_false_positives(local_df_show_false_positives_negatives, run,\n",
    "                                                                                               model, CATEGORY_FALSE_POSITIVE, \n",
    "                                                                                               CATEGORY_MAIN_PART, usidone, usidtwo,\n",
    "                                                                                               reason_describtions_main_part,\n",
    "                                                                                               reference_to_original_text_one_main_part, \n",
    "                                                                                               reference_to_original_text_two_main_part, \n",
    "                                                                                               original_text_two,\n",
    "                                                                                               original_text_two)                \n",
    "                if bool(item['redundantBenefit']):\n",
    "                        local_df_show_false_positives_negatives = add_row_to_show_false_positives(local_df_show_false_positives_negatives, run,\n",
    "                                                                                                model, CATEGORY_FALSE_POSITIVE, \n",
    "                                                                                                CATEGORY_BENEFIT, usidone, usidtwo,\n",
    "                                                                                                reason_describtions_benefit,\n",
    "                                                                                                reference_to_original_text_one_benefit, \n",
    "                                                                                                reference_to_original_text_two_benefit, \n",
    "                                                                                                original_text_two,\n",
    "                                                                                                original_text_two)\n",
    "    return local_df_show_false_positives_negatives"
   ]
  },
  {
   "cell_type": "code",
   "execution_count": 175,
   "metadata": {},
   "outputs": [
    {
     "data": {
      "text/html": [
       "<div>\n",
       "<style scoped>\n",
       "    .dataframe tbody tr th:only-of-type {\n",
       "        vertical-align: middle;\n",
       "    }\n",
       "\n",
       "    .dataframe tbody tr th {\n",
       "        vertical-align: top;\n",
       "    }\n",
       "\n",
       "    .dataframe thead th {\n",
       "        text-align: right;\n",
       "    }\n",
       "</style>\n",
       "<table border=\"1\" class=\"dataframe\">\n",
       "  <thead>\n",
       "    <tr style=\"text-align: right;\">\n",
       "      <th></th>\n",
       "      <th>Execution Run</th>\n",
       "      <th>Model</th>\n",
       "      <th>False Type</th>\n",
       "      <th>Main Part or Benefit</th>\n",
       "      <th>User Story Id 1</th>\n",
       "      <th>User Story Id 2</th>\n",
       "      <th>Reason from ChatGPT</th>\n",
       "      <th>Refered Text 1 by ChatGPT</th>\n",
       "      <th>Refered Text 1 from formal Approach</th>\n",
       "      <th>Refered Text 2 by ChatGPT</th>\n",
       "      <th>Refered Text 2 from formal Approach</th>\n",
       "    </tr>\n",
       "  </thead>\n",
       "  <tbody>\n",
       "    <tr>\n",
       "      <th>0</th>\n",
       "      <td>00</td>\n",
       "      <td>gpt-4-turbo</td>\n",
       "      <td>False Positive</td>\n",
       "      <td>Main Part</td>\n",
       "      <td>590</td>\n",
       "      <td>379</td>\n",
       "      <td>0.) Dummy Value Describtion\\n1.) The redundanc...</td>\n",
       "      <td>0.) As a User, I want to verify myself\\n\\n1.) ...</td>\n",
       "      <td>As a Data Publishing User, I want to be able t...</td>\n",
       "      <td>0.) As an application User, I want to verify t...</td>\n",
       "      <td>As a Data Publishing User, I want to be able t...</td>\n",
       "    </tr>\n",
       "    <tr>\n",
       "      <th>1</th>\n",
       "      <td>00</td>\n",
       "      <td>gpt-4-turbo</td>\n",
       "      <td>False Positive</td>\n",
       "      <td>Benefit</td>\n",
       "      <td>590</td>\n",
       "      <td>379</td>\n",
       "      <td>0.) The redundancy in these sentences lies in ...</td>\n",
       "      <td>0.) I can login into the webpage.\\n\\n1.) I can...</td>\n",
       "      <td>As a Data Publishing User, I want to be able t...</td>\n",
       "      <td>0.) I could login into the website\\n\\n1.) I ca...</td>\n",
       "      <td>As a Data Publishing User, I want to be able t...</td>\n",
       "    </tr>\n",
       "  </tbody>\n",
       "</table>\n",
       "</div>"
      ],
      "text/plain": [
       "  Execution Run        Model      False Type Main Part or Benefit  \\\n",
       "0            00  gpt-4-turbo  False Positive            Main Part   \n",
       "1            00  gpt-4-turbo  False Positive              Benefit   \n",
       "\n",
       "   User Story Id 1  User Story Id 2  \\\n",
       "0              590              379   \n",
       "1              590              379   \n",
       "\n",
       "                                 Reason from ChatGPT  \\\n",
       "0  0.) Dummy Value Describtion\\n1.) The redundanc...   \n",
       "1  0.) The redundancy in these sentences lies in ...   \n",
       "\n",
       "                           Refered Text 1 by ChatGPT  \\\n",
       "0  0.) As a User, I want to verify myself\\n\\n1.) ...   \n",
       "1  0.) I can login into the webpage.\\n\\n1.) I can...   \n",
       "\n",
       "                 Refered Text 1 from formal Approach  \\\n",
       "0  As a Data Publishing User, I want to be able t...   \n",
       "1  As a Data Publishing User, I want to be able t...   \n",
       "\n",
       "                           Refered Text 2 by ChatGPT  \\\n",
       "0  0.) As an application User, I want to verify t...   \n",
       "1  0.) I could login into the website\\n\\n1.) I ca...   \n",
       "\n",
       "                 Refered Text 2 from formal Approach  \n",
       "0  As a Data Publishing User, I want to be able t...  \n",
       "1  As a Data Publishing User, I want to be able t...  "
      ]
     },
     "execution_count": 175,
     "metadata": {},
     "output_type": "execute_result"
    }
   ],
   "source": [
    "df_show_false_positives_negatives = df_show_false_positives_negatives.drop(df_show_false_positives_negatives.index)\n",
    "for key in chat_gpt_result_keys: \n",
    "    show_false_positives = chat_gpt_results[key]\n",
    "    match = re.search(r'gpt.*$', key)\n",
    "    df_show_false_positives_negatives = fill_df_show_false_positives_negatives(df_show_false_positives_negatives, match.group(), show_false_positives)\n",
    "df_show_false_positives_negatives.head(5)"
   ]
  },
  {
   "cell_type": "markdown",
   "metadata": {},
   "source": [
    "### Getting the true positives"
   ]
  },
  {
   "cell_type": "code",
   "execution_count": null,
   "metadata": {},
   "outputs": [],
   "source": [
    "DF_SHOW_TRUE_POSITIVES_DTYPES = {\n",
    "    'Execution Run': 'int',\n",
    "    'Model': 'str',\n",
    "    'Main Part or Benefit': pd.CategoricalDtype(categories=REDUNDANCY_CATEGORIES_MAIN_PART_BENEFIT),\n",
    "    'User Story Id 1': 'int',\n",
    "    'User Story Id 2': 'int',\n",
    "    'Reason from ChatGPT': 'str',\n",
    "    'Refered Text 1 by ChatGPT': 'str',\n",
    "    'Refered Text 1 from formal Approach': 'str',\n",
    "    'Refered Text 2 by ChatGPT': 'str',\n",
    "    'Refered Text 2 from formal Approach': 'str'\n",
    "}\n",
    "df_show_true_positives = pd.DataFrame(columns=DF_SHOW_TRUE_POSITIVES_DTYPES.keys()).astype(dtype=DF_SHOW_TRUE_POSITIVES_DTYPES)"
   ]
  },
  {
   "cell_type": "code",
   "execution_count": null,
   "metadata": {},
   "outputs": [],
   "source": [
    "def fill_df_show_true_positives(local_df_show_true_positives: pd.core.series.Series, model: str, chat_gpt_input_category: dict) -> pd.DataFrame:\n",
    "    CATEGORY_MAIN_PART = \"Main Part\"\n",
    "    CATEGORY_BENEFIT = \"Benefit\"\n",
    "    ORIGINAL_DATASET = load_datasets_add_line_counter()\n",
    "    \n",
    "    def add_row_to_show_true_positives(local_df_show_true_positives: pd.DataFrame, execution_run: int, model: str, main_or_benefit: str, usid_one: int, \n",
    "                                    usid_two: int, reason_chat: str, text_chat_one: str, text_chat_two: str, text_formal_one: str, text_formal_two: str) -> pd.DataFrame:\n",
    "        new_row = pd.DataFrame({\n",
    "            'Execution Run':[execution_run],\n",
    "            'Model': [model],\n",
    "            'Main Part or Benefit': pd.Categorical([main_or_benefit], categories=REDUNDANCY_CATEGORIES_MAIN_PART_BENEFIT),\n",
    "            'User Story Id 1': [usid_one],\n",
    "            'User Story Id 2': [usid_two],\n",
    "            'Reason from ChatGPT': [reason_chat],\n",
    "            'Refered Text 1 by ChatGPT': [text_chat_one],\n",
    "            'Refered Text 1 from formal Approach': [text_formal_one],\n",
    "            'Refered Text 2 by ChatGPT': [text_chat_two],\n",
    "            'Refered Text 2 from formal Approach': [text_formal_two]\n",
    "        })\n",
    "        return pd.concat([local_df_show_true_positives, new_row], ignore_index=True)\n",
    "    \n",
    "    for file in chat_gpt_input_category.values():\n",
    "        file_content = file\n",
    "        for item in file_content:\n",
    "            filtered_rows = excel_data[(excel_data['Corresponding USID 1'].astype(int) == int(item['relatedStories'][0])) \n",
    "                                        & (excel_data['Corresponding USID 2'].astype(int) == int(item['relatedStories'][1]))]\n",
    "            if (filtered_rows.shape[0] == 1):\n",
    "                formal_text_one, formal_text_two = split_and_remove_prefix(filtered_rows)\n",
    "                reason_describtions_main_part, reference_to_original_text_one_main_part, reference_to_original_text_two_main_part = collecting_reasons_and_references(item['benefitRedundancies'])\n",
    "                reason_describtions_benefit, reference_to_original_text_one_benefit, reference_to_original_text_two_benefit = collecting_reasons_and_references(item['benefitRedundancies'])\n",
    "                usidone: int = 0\n",
    "                usidtwo: int = 0\n",
    "                run: int = 0\n",
    "                try:\n",
    "                    usidone: int = int(item['relatedStories'][0])\n",
    "                    usidtwo: int = int(item['relatedStories'][1])\n",
    "                    run: int = list(chat_gpt_input_category.keys())[0].split(\"_\")[0].strip()\n",
    "                except ValueError:\n",
    "                    raise Exception(\"Conversion failed: String did not contain a valid integer.\")\n",
    "                \n",
    "                #Searching for the true positives for main part and benefit.\n",
    "                if bool(item['redundantMainPart']) and bool(excel_data.iat[0, 6]):\n",
    "                    local_df_show_true_positives = add_row_to_show_true_positives(local_df_show_true_positives, run,\n",
    "                                                                                               model, CATEGORY_MAIN_PART, usidone, usidtwo,\n",
    "                                                                                               reason_describtions_main_part,\n",
    "                                                                                               reference_to_original_text_one_main_part, \n",
    "                                                                                               reference_to_original_text_two_main_part, \n",
    "                                                                                               formal_text_one,\n",
    "                                                                                               formal_text_two)\n",
    "                    \n",
    "                if bool(item['redundantBenefit']) and bool(excel_data.iat[0, 7]):\n",
    "                    local_df_show_true_positives = add_row_to_show_true_positives(local_df_show_true_positives, run,\n",
    "                                                                                               model, CATEGORY_BENEFIT, usidone, usidtwo,\n",
    "                                                                                               reason_describtions_benefit,\n",
    "                                                                                               reference_to_original_text_one_benefit, \n",
    "                                                                                               reference_to_original_text_two_benefit, \n",
    "                                                                                               formal_text_one,\n",
    "                                                                                               formal_text_two)\n",
    "            elif (filtered_rows.shape[0] >= 2):\n",
    "                raise Exception(\"There are more than or equal to 2 filtered rows.\\n\" + f\"JSON File: {item}\\n\" + f\"Excel{filtered_rows}\")\n",
    "    return local_df_show_true_positives"
   ]
  },
  {
   "cell_type": "code",
   "execution_count": null,
   "metadata": {},
   "outputs": [
    {
     "data": {
      "text/html": [
       "<div>\n",
       "<style scoped>\n",
       "    .dataframe tbody tr th:only-of-type {\n",
       "        vertical-align: middle;\n",
       "    }\n",
       "\n",
       "    .dataframe tbody tr th {\n",
       "        vertical-align: top;\n",
       "    }\n",
       "\n",
       "    .dataframe thead th {\n",
       "        text-align: right;\n",
       "    }\n",
       "</style>\n",
       "<table border=\"1\" class=\"dataframe\">\n",
       "  <thead>\n",
       "    <tr style=\"text-align: right;\">\n",
       "      <th></th>\n",
       "      <th>Execution Run</th>\n",
       "      <th>Model</th>\n",
       "      <th>Main Part or Benefit</th>\n",
       "      <th>User Story Id 1</th>\n",
       "      <th>User Story Id 2</th>\n",
       "      <th>Reason from ChatGPT</th>\n",
       "      <th>Refered Text 1 by ChatGPT</th>\n",
       "      <th>Refered Text 1 from formal Approach</th>\n",
       "      <th>Refered Text 2 by ChatGPT</th>\n",
       "      <th>Refered Text 2 from formal Approach</th>\n",
       "    </tr>\n",
       "  </thead>\n",
       "  <tbody>\n",
       "    <tr>\n",
       "      <th>0</th>\n",
       "      <td>00</td>\n",
       "      <td>gpt-3.5-turbo</td>\n",
       "      <td>Benefit</td>\n",
       "      <td>326</td>\n",
       "      <td>353</td>\n",
       "      <td>0.) The redundancy in these sentences lies in ...</td>\n",
       "      <td>0.) I can login into the webpage.\\n\\n1.) I can...</td>\n",
       "      <td>as a staff member, i want to assign an applic...</td>\n",
       "      <td>0.) I could login into the website\\n\\n1.) I ca...</td>\n",
       "      <td>as a plan review staff member, i want to revi...</td>\n",
       "    </tr>\n",
       "  </tbody>\n",
       "</table>\n",
       "</div>"
      ],
      "text/plain": [
       "  Execution Run          Model Main Part or Benefit  User Story Id 1  \\\n",
       "0            00  gpt-3.5-turbo              Benefit              326   \n",
       "\n",
       "   User Story Id 2                                Reason from ChatGPT  \\\n",
       "0              353  0.) The redundancy in these sentences lies in ...   \n",
       "\n",
       "                           Refered Text 1 by ChatGPT  \\\n",
       "0  0.) I can login into the webpage.\\n\\n1.) I can...   \n",
       "\n",
       "                 Refered Text 1 from formal Approach  \\\n",
       "0   as a staff member, i want to assign an applic...   \n",
       "\n",
       "                           Refered Text 2 by ChatGPT  \\\n",
       "0  0.) I could login into the website\\n\\n1.) I ca...   \n",
       "\n",
       "                 Refered Text 2 from formal Approach  \n",
       "0   as a plan review staff member, i want to revi...  "
      ]
     },
     "execution_count": 141,
     "metadata": {},
     "output_type": "execute_result"
    }
   ],
   "source": [
    "df_show_true_positives = df_show_true_positives.drop(df_show_true_positives.index)\n",
    "for key in chat_gpt_result_keys: \n",
    "    show_true_positives: dict = chat_gpt_results[key]\n",
    "    match = re.search(r'gpt.*$', key)\n",
    "    df_show_true_positives = fill_df_show_true_positives(df_show_true_positives, match.group(), show_true_positives)\n",
    "df_show_true_positives.head(5)"
   ]
  },
  {
   "cell_type": "markdown",
   "metadata": {},
   "source": [
    "### Saveing both dataframes to one excel"
   ]
  },
  {
   "cell_type": "code",
   "execution_count": null,
   "metadata": {},
   "outputs": [],
   "source": [
    "def save_to_excel(name_xlsx: str, sheet_name: str, local_data: pd.DataFrame):\n",
    "    if os.path.exists(name_xlsx):\n",
    "        try:\n",
    "            wb = load_workbook(name_xlsx)\n",
    "            if sheet_name in wb.sheetnames:\n",
    "                try:\n",
    "                    del wb[sheet_name]\n",
    "                    wb.save(name_xlsx)\n",
    "                finally:\n",
    "                    if 'wb' in locals() and wb:\n",
    "                        wb.close()\n",
    "                        wb = None\n",
    "                    wb = load_workbook(name_xlsx)    \n",
    "            if (len(wb.sheetnames) >= 1):\n",
    "                with pd.ExcelWriter(name_xlsx, mode='a') as writer:\n",
    "                    local_data.to_excel(writer, index=False , sheet_name=sheet_name)\n",
    "                if ('writer' in locals()):\n",
    "                    writer = None\n",
    "            else:\n",
    "                with pd.ExcelWriter(name_xlsx, mode='w') as writer:\n",
    "                    local_data.to_excel(writer, index=False , sheet_name=sheet_name)\n",
    "                if ('writer' in locals()):\n",
    "                    writer = None\n",
    "        finally:\n",
    "            if 'wb' in locals() and wb:\n",
    "                wb.close()\n",
    "                wb = None\n",
    "    else:\n",
    "        with pd.ExcelWriter(name_xlsx, mode='w') as writer:\n",
    "                    local_data.to_excel(writer, index=False , sheet_name=sheet_name)\n",
    "        if ('writer' in locals()):\n",
    "            writer = None\n",
    "\n",
    "    try:\n",
    "        wb:Worksheet  = load_workbook(name_xlsx)\n",
    "        ws = wb[sheet_name]\n",
    "        header_font = Font(size=14, bold=True)\n",
    "        for cell in ws[\"1:1\"]:\n",
    "            cell.font = header_font\n",
    "        \n",
    "        ADDITIONAL_LENGTH: int = 0\n",
    "        ADJUSTED_WIDTH: int = 0\n",
    "        MAX_LEN: int = 0\n",
    "        for col in ws.iter_cols(min_row=1, max_row=1):\n",
    "            for cell in col:\n",
    "                MAX_LEN = len(str(cell.value))\n",
    "                ADDITIONAL_LENGTH = (MAX_LEN + 2)\n",
    "                ADJUSTED_WIDTH = 0\n",
    "                if cell.col_idx == 2:\n",
    "                    ADJUSTED_WIDTH =  ADDITIONAL_LENGTH * 1.5\n",
    "                elif cell.col_idx == 1 or cell.col_idx == 7 or cell.col_idx == 8:\n",
    "                    ADJUSTED_WIDTH = ADDITIONAL_LENGTH * 1.3\n",
    "                else:\n",
    "                    ADJUSTED_WIDTH = ADDITIONAL_LENGTH * 1.2\n",
    "                ws.column_dimensions[utils_get_column_letter(cell.column)].width = ADJUSTED_WIDTH\n",
    "                \n",
    "        alignment = Alignment(vertical='center', horizontal='left')\n",
    "        for row in ws.iter_rows():\n",
    "            for cell in row:\n",
    "                cell.alignment = alignment\n",
    "\n",
    "        num_columns = ws.max_column\n",
    "        header_range = f\"A1:{utils_get_column_letter(num_columns)}1\"\n",
    "        ws.auto_filter.ref = header_range\n",
    "        ws.freeze_panes = ws['A2']\n",
    "\n",
    "        wrap_alignment = Alignment(wrap_text=True, vertical='top', horizontal='left')\n",
    "        for row in ws.iter_rows(min_row=2):\n",
    "            for cell in row:\n",
    "                cell.alignment = wrap_alignment\n",
    "                \n",
    "        wb.save(name_xlsx)\n",
    "    finally:\n",
    "        if 'ws' in locals():\n",
    "            ws = None\n",
    "        if 'wb' in locals() and wb:\n",
    "            wb.close()\n",
    "            wb = None"
   ]
  },
  {
   "cell_type": "code",
   "execution_count": null,
   "metadata": {},
   "outputs": [],
   "source": [
    "save_to_excel('output_detections_highlighting_without_annotations.xlsx', 'Only US-False Pos. Neg.', df_show_false_positives_negatives)"
   ]
  },
  {
   "cell_type": "code",
   "execution_count": null,
   "metadata": {},
   "outputs": [],
   "source": [
    "save_to_excel('output_detections_highlighting_without_annotations.xlsx', 'Only US-True Pos.', df_show_true_positives)"
   ]
  }
 ],
 "metadata": {
  "kernelspec": {
   "display_name": "Python 3 (ipykernel)",
   "language": "python",
   "name": "python3"
  },
  "language_info": {
   "codemirror_mode": {
    "name": "ipython",
    "version": 3
   },
   "file_extension": ".py",
   "mimetype": "text/x-python",
   "name": "python",
   "nbconvert_exporter": "python",
   "pygments_lexer": "ipython3",
   "version": "3.12.2"
  }
 },
 "nbformat": 4,
 "nbformat_minor": 2
}
