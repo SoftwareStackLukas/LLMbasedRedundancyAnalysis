{
 "cells": [
  {
   "cell_type": "markdown",
   "metadata": {},
   "source": [
    "# Here we compare the Results of ChatGPT against the manuell Results"
   ]
  },
  {
   "cell_type": "code",
   "execution_count": 71,
   "metadata": {},
   "outputs": [],
   "source": [
    "import pandas as pd\n",
    "import os, json\n",
    "from support_functions.load_data import load_datasets_with_annotations as loading"
   ]
  },
  {
   "cell_type": "markdown",
   "metadata": {},
   "source": [
    "### Loading the data from excel data"
   ]
  },
  {
   "cell_type": "code",
   "execution_count": 72,
   "metadata": {},
   "outputs": [],
   "source": [
    "def load_datasets_add_line() -> dict[str, list]:\n",
    "    datasets: dict[str, list] = loading()\n",
    "    for key in datasets.keys():\n",
    "        current_dataset = datasets[key]\n",
    "        for i, item in enumerate(current_dataset, start=1):\n",
    "            item = {'counter': i, **item}\n",
    "            current_dataset[i-1] = item\n",
    "    return datasets"
   ]
  },
  {
   "cell_type": "code",
   "execution_count": 73,
   "metadata": {},
   "outputs": [],
   "source": [
    "def prepaire_excel_data() -> pd:\n",
    "    current_directory = os.getcwd()\n",
    "    suffix = '\\\\redundanciesbyannotations'\n",
    "    directory_excel = current_directory[:-len(suffix)] if current_directory.endswith(suffix) else current_directory\n",
    "    directory_excel += \"\\\\Dataset\\\\Evaluation_v4.xlsx\"\n",
    "    excel_data = pd.read_excel(directory_excel, usecols=lambda column: 'Item' not in column, skiprows=range(1), sheet_name=\"Ground Truth\")\n",
    "    excel_data = excel_data.drop(columns=['Unnamed: 0', 'Unnamed: 12', 'total', 'main', 'benefit', 'total.1', 'main.1', 'benefit.1'], axis=1)\n",
    "    excel_data = excel_data.rename(columns={'Main Part \\nPartial': 'Main Part Partial', 'Main Part \\nFull': 'Main Part Full', 'Benefit\\nPartial':'Benefit Partial','Benefit\\nFull':'Benefit Full'})\n",
    "    excel_data.index += 1\n",
    "    excel_data = excel_data.fillna(\"Empty\")\n",
    "    \n",
    "    ## Map line number to user story number\n",
    "    excel_data.insert(loc=4, column='Corresponding USID 1', value=0)\n",
    "    excel_data.insert(loc=5, column='Corresponding USID 2', value=0)\n",
    "    datasets = load_datasets_add_line()\n",
    "    for idx in range(len(excel_data)):\n",
    "        redundant_pairs = excel_data.iat[idx, 1]\n",
    "        parts = redundant_pairs.split('_')\n",
    "        first_number = int(parts[2])\n",
    "        second_number = int(parts[-1])\n",
    "        project_number = f\"#{excel_data.iat[idx, 0]}#\".upper()\n",
    "        project_data = datasets[project_number]\n",
    "        for item in project_data: \n",
    "            if item['counter'] == first_number:\n",
    "                excel_data.iat[idx, 4] = item['id']\n",
    "            if item['counter'] == second_number:\n",
    "                excel_data.iat[idx, 5] = item['id']\n",
    "    return excel_data"
   ]
  },
  {
   "cell_type": "code",
   "execution_count": 74,
   "metadata": {},
   "outputs": [
    {
     "data": {
      "text/html": [
       "<div>\n",
       "<style scoped>\n",
       "    .dataframe tbody tr th:only-of-type {\n",
       "        vertical-align: middle;\n",
       "    }\n",
       "\n",
       "    .dataframe tbody tr th {\n",
       "        vertical-align: top;\n",
       "    }\n",
       "\n",
       "    .dataframe thead th {\n",
       "        text-align: right;\n",
       "    }\n",
       "</style>\n",
       "<table border=\"1\" class=\"dataframe\">\n",
       "  <thead>\n",
       "    <tr style=\"text-align: right;\">\n",
       "      <th></th>\n",
       "      <th>Project Number</th>\n",
       "      <th>Redundant Pairs</th>\n",
       "      <th>User Stories Texts</th>\n",
       "      <th>Total Redundancy Clause *</th>\n",
       "      <th>Corresponding USID 1</th>\n",
       "      <th>Corresponding USID 2</th>\n",
       "      <th>Main Part Redundancy Clause**</th>\n",
       "      <th>Benefit Part Redundancy Clause ***</th>\n",
       "      <th>Main Part Partial</th>\n",
       "      <th>Main Part Full</th>\n",
       "      <th>Benefit Partial</th>\n",
       "      <th>Benefit Full</th>\n",
       "    </tr>\n",
       "  </thead>\n",
       "  <tbody>\n",
       "    <tr>\n",
       "      <th>1</th>\n",
       "      <td>G03</td>\n",
       "      <td>user_story_12_AND_user_story_39</td>\n",
       "      <td>user_story_12: #g03# as a staff member, i want...</td>\n",
       "      <td>1</td>\n",
       "      <td>326</td>\n",
       "      <td>353</td>\n",
       "      <td>0</td>\n",
       "      <td>1</td>\n",
       "      <td>False</td>\n",
       "      <td>False</td>\n",
       "      <td>True</td>\n",
       "      <td>False</td>\n",
       "    </tr>\n",
       "    <tr>\n",
       "      <th>2</th>\n",
       "      <td>G03</td>\n",
       "      <td>user_story_17_AND_user_story_30</td>\n",
       "      <td>user_story_17: #g03# as a staff member, i want...</td>\n",
       "      <td>1</td>\n",
       "      <td>331</td>\n",
       "      <td>344</td>\n",
       "      <td>0</td>\n",
       "      <td>1</td>\n",
       "      <td>False</td>\n",
       "      <td>False</td>\n",
       "      <td>True</td>\n",
       "      <td>False</td>\n",
       "    </tr>\n",
       "    <tr>\n",
       "      <th>3</th>\n",
       "      <td>G04</td>\n",
       "      <td>user_story_05_AND_user_story_12</td>\n",
       "      <td>user_story_05: #g04# as a user, i want to have...</td>\n",
       "      <td>1</td>\n",
       "      <td>168</td>\n",
       "      <td>175</td>\n",
       "      <td>0</td>\n",
       "      <td>1</td>\n",
       "      <td>False</td>\n",
       "      <td>False</td>\n",
       "      <td>False</td>\n",
       "      <td>True</td>\n",
       "    </tr>\n",
       "  </tbody>\n",
       "</table>\n",
       "</div>"
      ],
      "text/plain": [
       "  Project Number                  Redundant Pairs  \\\n",
       "1            G03  user_story_12_AND_user_story_39   \n",
       "2            G03  user_story_17_AND_user_story_30   \n",
       "3            G04  user_story_05_AND_user_story_12   \n",
       "\n",
       "                                  User Stories Texts  \\\n",
       "1  user_story_12: #g03# as a staff member, i want...   \n",
       "2  user_story_17: #g03# as a staff member, i want...   \n",
       "3  user_story_05: #g04# as a user, i want to have...   \n",
       "\n",
       "   Total Redundancy Clause *  Corresponding USID 1  Corresponding USID 2  \\\n",
       "1                          1                   326                   353   \n",
       "2                          1                   331                   344   \n",
       "3                          1                   168                   175   \n",
       "\n",
       "   Main Part Redundancy Clause**  Benefit Part Redundancy Clause ***  \\\n",
       "1                              0                                   1   \n",
       "2                              0                                   1   \n",
       "3                              0                                   1   \n",
       "\n",
       "   Main Part Partial  Main Part Full  Benefit Partial  Benefit Full  \n",
       "1              False           False             True         False  \n",
       "2              False           False             True         False  \n",
       "3              False           False            False          True  "
      ]
     },
     "execution_count": 74,
     "metadata": {},
     "output_type": "execute_result"
    }
   ],
   "source": [
    "excel_data = prepaire_excel_data()\n",
    "excel_data.head(3)"
   ]
  },
  {
   "cell_type": "markdown",
   "metadata": {},
   "source": [
    "### Loading ChatGPT results"
   ]
  },
  {
   "cell_type": "code",
   "execution_count": 83,
   "metadata": {},
   "outputs": [],
   "source": [
    "directories_to_ignore:dict = [\"annotations\", \"dependency_graph\"]\n",
    "def load_chat_gpt_results() -> list[dict]:\n",
    "    directory_results = os.path.join(os.getcwd(), \"results\")\n",
    "    category_data: dict = {}\n",
    "    for root, dirs, files in os.walk(directory_results):\n",
    "        dirs[:] = [d for d in dirs if d not in directories_to_ignore]\n",
    "        temp_category_data: dict = {}\n",
    "        for filename in files:\n",
    "            file_path = os.path.join(root, filename)\n",
    "            if filename.endswith('.json'):\n",
    "                with open(file_path, 'r') as file:\n",
    "                    data = json.load(file)\n",
    "                    temp_category_data[filename] = data\n",
    "        if (temp_category_data):\n",
    "            print(root.split(\"\\\\\")[-1])\n",
    "            category_data[root.split(\"\\\\\")[-1]] = temp_category_data\n",
    "    return category_data"
   ]
  },
  {
   "cell_type": "code",
   "execution_count": 82,
   "metadata": {},
   "outputs": [
    {
     "name": "stdout",
     "output_type": "stream",
     "text": [
      "redundancy-model-gpt-3.5-turbo\n",
      "redundancy-model-gpt-4-turbo\n"
     ]
    }
   ],
   "source": [
    "chat_gpt_results: dict = load_chat_gpt_results()"
   ]
  },
  {
   "cell_type": "markdown",
   "metadata": {},
   "source": [
    "### Analyse - TP, FP, TN, FN, Recall etc, confusion matrix "
   ]
  },
  {
   "cell_type": "markdown",
   "metadata": {},
   "source": []
  }
 ],
 "metadata": {
  "kernelspec": {
   "display_name": "Python 3 (ipykernel)",
   "language": "python",
   "name": "python3"
  },
  "language_info": {
   "codemirror_mode": {
    "name": "ipython",
    "version": 3
   },
   "file_extension": ".py",
   "mimetype": "text/x-python",
   "name": "python",
   "nbconvert_exporter": "python",
   "pygments_lexer": "ipython3",
   "version": "3.12.2"
  }
 },
 "nbformat": 4,
 "nbformat_minor": 2
}
