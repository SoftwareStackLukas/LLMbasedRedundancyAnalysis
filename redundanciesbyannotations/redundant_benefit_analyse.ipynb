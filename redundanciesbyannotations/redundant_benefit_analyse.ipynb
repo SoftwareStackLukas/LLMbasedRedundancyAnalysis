{
 "cells": [
  {
   "cell_type": "markdown",
   "metadata": {},
   "source": [
    "# Analysing the redundancies of User Stories benefits"
   ]
  },
  {
   "cell_type": "code",
   "execution_count": 202,
   "metadata": {},
   "outputs": [],
   "source": [
    "from load_data import load_datasets_with_annotations as loading\n",
    "from dotenv import load_dotenv\n",
    "from itertools import combinations\n",
    "import pandas as pd\n",
    "from openai import OpenAI\n",
    "import os\n",
    "\n",
    "load_dotenv()\n",
    "api_key = os.getenv('OPENAI_API_KEY')\n",
    "model_code = os.getenv('MODEL_VERSION')"
   ]
  },
  {
   "cell_type": "code",
   "execution_count": 203,
   "metadata": {},
   "outputs": [],
   "source": [
    "client = OpenAI()\n",
    "datasets: dict[str, list] = loading()"
   ]
  },
  {
   "cell_type": "code",
   "execution_count": 204,
   "metadata": {},
   "outputs": [],
   "source": [
    "### This way of working with pandas is not recommend\n",
    "### It has to be optimized to find a way to store for each text ther enteties and relations\n",
    "\n",
    "def transform_data(data):\n",
    "    rows = []\n",
    "    row_enteties = []\n",
    "    row_relations = []\n",
    "    for line in data:\n",
    "        for entity in line['entities']:\n",
    "            entity_row = {\n",
    "                \"id\": entity[\"id\"],\n",
    "                \"label\": entity[\"label\"],\n",
    "                \"start_offset\": entity[\"start_offset\"],\n",
    "                \"end_offset\": entity[\"end_offset\"]\n",
    "            }\n",
    "            row_enteties.append(entity_row)\n",
    "        for relation in line['relations']:\n",
    "            relation_row = {\n",
    "                \"id\": relation[\"id\"],\n",
    "                \"type\": relation[\"type\"],\n",
    "                \"from id\": relation[\"from_id\"],\n",
    "                \"to id\": relation[\"to_id\"]\n",
    "            }\n",
    "            row_relations.append(relation_row)\n",
    "        row = {\n",
    "            'ID': line['id'],\n",
    "            'User Story': line['text'],\n",
    "            'Enteties': row_enteties,\n",
    "            'Relations': row_relations\n",
    "        }\n",
    "        rows.append(row)\n",
    "    return pd.DataFrame(rows)"
   ]
  },
  {
   "cell_type": "code",
   "execution_count": 205,
   "metadata": {},
   "outputs": [],
   "source": [
    "def transform_data_id_text(data: list):\n",
    "    rows = []\n",
    "    for entry in data:\n",
    "        row = {\n",
    "            'ID': entry['id'],\n",
    "            'User Story': entry['text']\n",
    "        }\n",
    "        rows.append(row)\n",
    "    return pd.DataFrame(rows)"
   ]
  },
  {
   "cell_type": "code",
   "execution_count": 206,
   "metadata": {},
   "outputs": [],
   "source": [
    "def transform_pairwise(df: pd.DataFrame):\n",
    "    rows = []\n",
    "    for i, j in combinations(range(df.shape[0]), 2):\n",
    "        row = {\n",
    "            'First ID': df.iloc[i, 0],\n",
    "            'First User Story': df.iloc[i, 1],\n",
    "            'Second ID': df.iloc[j, 0],\n",
    "            'Second User Story': df.iloc[j, 1]\n",
    "        }\n",
    "        rows.append(row)\n",
    "    return pd.DataFrame(rows)"
   ]
  },
  {
   "cell_type": "markdown",
   "metadata": {},
   "source": [
    "## Request definition for User Stories"
   ]
  },
  {
   "cell_type": "code",
   "execution_count": null,
   "metadata": {},
   "outputs": [],
   "source": []
  },
  {
   "cell_type": "markdown",
   "metadata": {},
   "source": [
    "### Datatransformation to panda dataframes and numpy arrarys. "
   ]
  },
  {
   "cell_type": "markdown",
   "metadata": {},
   "source": [
    "### G02 federal funding redundancies"
   ]
  },
  {
   "cell_type": "code",
   "execution_count": 207,
   "metadata": {},
   "outputs": [],
   "source": [
    "id_g02: str = \"#G02#\"\n",
    "data_g02: list = datasets[id_g02]\n",
    "df_g02: pd.DataFrame = transform_data_id_text(data_g02)\n",
    "df_g02_pairs = transform_pairwise(df_g02)"
   ]
  },
  {
   "cell_type": "code",
   "execution_count": 208,
   "metadata": {},
   "outputs": [
    {
     "data": {
      "text/html": [
       "<div>\n",
       "<style scoped>\n",
       "    .dataframe tbody tr th:only-of-type {\n",
       "        vertical-align: middle;\n",
       "    }\n",
       "\n",
       "    .dataframe tbody tr th {\n",
       "        vertical-align: top;\n",
       "    }\n",
       "\n",
       "    .dataframe thead th {\n",
       "        text-align: right;\n",
       "    }\n",
       "</style>\n",
       "<table border=\"1\" class=\"dataframe\">\n",
       "  <thead>\n",
       "    <tr style=\"text-align: right;\">\n",
       "      <th></th>\n",
       "      <th>ID</th>\n",
       "      <th>User Story</th>\n",
       "    </tr>\n",
       "  </thead>\n",
       "  <tbody>\n",
       "    <tr>\n",
       "      <th>0</th>\n",
       "      <td>215</td>\n",
       "      <td>As a Data user, I want to have the 12-19-2017...</td>\n",
       "    </tr>\n",
       "    <tr>\n",
       "      <th>1</th>\n",
       "      <td>216</td>\n",
       "      <td>As a UI designer, I want to redesign the Reso...</td>\n",
       "    </tr>\n",
       "    <tr>\n",
       "      <th>2</th>\n",
       "      <td>217</td>\n",
       "      <td>As a UI designer, I want to report to the Age...</td>\n",
       "    </tr>\n",
       "    <tr>\n",
       "      <th>3</th>\n",
       "      <td>218</td>\n",
       "      <td>As a UI designer, I want to move on to round ...</td>\n",
       "    </tr>\n",
       "    <tr>\n",
       "      <th>4</th>\n",
       "      <td>220</td>\n",
       "      <td>As a UI designer, I want to move on to round ...</td>\n",
       "    </tr>\n",
       "    <tr>\n",
       "      <th>...</th>\n",
       "      <td>...</td>\n",
       "      <td>...</td>\n",
       "    </tr>\n",
       "    <tr>\n",
       "      <th>90</th>\n",
       "      <td>308</td>\n",
       "      <td>As a FABS user, I want to have my validations...</td>\n",
       "    </tr>\n",
       "    <tr>\n",
       "      <th>91</th>\n",
       "      <td>309</td>\n",
       "      <td>As a FABS user, I want to see correct status ...</td>\n",
       "    </tr>\n",
       "    <tr>\n",
       "      <th>92</th>\n",
       "      <td>310</td>\n",
       "      <td>As an agency user, I want to know when the su...</td>\n",
       "    </tr>\n",
       "    <tr>\n",
       "      <th>93</th>\n",
       "      <td>311</td>\n",
       "      <td>As an agency user, I want a landing page to n...</td>\n",
       "    </tr>\n",
       "    <tr>\n",
       "      <th>94</th>\n",
       "      <td>312</td>\n",
       "      <td>As an agency user, I want to submit my data e...</td>\n",
       "    </tr>\n",
       "  </tbody>\n",
       "</table>\n",
       "<p>95 rows × 2 columns</p>\n",
       "</div>"
      ],
      "text/plain": [
       "     ID                                         User Story\n",
       "0   215   As a Data user, I want to have the 12-19-2017...\n",
       "1   216   As a UI designer, I want to redesign the Reso...\n",
       "2   217   As a UI designer, I want to report to the Age...\n",
       "3   218   As a UI designer, I want to move on to round ...\n",
       "4   220   As a UI designer, I want to move on to round ...\n",
       "..  ...                                                ...\n",
       "90  308   As a FABS user, I want to have my validations...\n",
       "91  309   As a FABS user, I want to see correct status ...\n",
       "92  310   As an agency user, I want to know when the su...\n",
       "93  311   As an agency user, I want a landing page to n...\n",
       "94  312   As an agency user, I want to submit my data e...\n",
       "\n",
       "[95 rows x 2 columns]"
      ]
     },
     "metadata": {},
     "output_type": "display_data"
    }
   ],
   "source": [
    "display(df_g02)"
   ]
  },
  {
   "cell_type": "code",
   "execution_count": 209,
   "metadata": {},
   "outputs": [
    {
     "data": {
      "text/html": [
       "<div>\n",
       "<style scoped>\n",
       "    .dataframe tbody tr th:only-of-type {\n",
       "        vertical-align: middle;\n",
       "    }\n",
       "\n",
       "    .dataframe tbody tr th {\n",
       "        vertical-align: top;\n",
       "    }\n",
       "\n",
       "    .dataframe thead th {\n",
       "        text-align: right;\n",
       "    }\n",
       "</style>\n",
       "<table border=\"1\" class=\"dataframe\">\n",
       "  <thead>\n",
       "    <tr style=\"text-align: right;\">\n",
       "      <th></th>\n",
       "      <th>First ID</th>\n",
       "      <th>First User Story</th>\n",
       "      <th>Second ID</th>\n",
       "      <th>Second User Story</th>\n",
       "    </tr>\n",
       "  </thead>\n",
       "  <tbody>\n",
       "    <tr>\n",
       "      <th>0</th>\n",
       "      <td>215</td>\n",
       "      <td>As a Data user, I want to have the 12-19-2017...</td>\n",
       "      <td>216</td>\n",
       "      <td>As a UI designer, I want to redesign the Reso...</td>\n",
       "    </tr>\n",
       "    <tr>\n",
       "      <th>1</th>\n",
       "      <td>215</td>\n",
       "      <td>As a Data user, I want to have the 12-19-2017...</td>\n",
       "      <td>217</td>\n",
       "      <td>As a UI designer, I want to report to the Age...</td>\n",
       "    </tr>\n",
       "    <tr>\n",
       "      <th>2</th>\n",
       "      <td>215</td>\n",
       "      <td>As a Data user, I want to have the 12-19-2017...</td>\n",
       "      <td>218</td>\n",
       "      <td>As a UI designer, I want to move on to round ...</td>\n",
       "    </tr>\n",
       "    <tr>\n",
       "      <th>3</th>\n",
       "      <td>215</td>\n",
       "      <td>As a Data user, I want to have the 12-19-2017...</td>\n",
       "      <td>220</td>\n",
       "      <td>As a UI designer, I want to move on to round ...</td>\n",
       "    </tr>\n",
       "    <tr>\n",
       "      <th>4</th>\n",
       "      <td>215</td>\n",
       "      <td>As a Data user, I want to have the 12-19-2017...</td>\n",
       "      <td>221</td>\n",
       "      <td>As a Developer , I want to be able to log bet...</td>\n",
       "    </tr>\n",
       "    <tr>\n",
       "      <th>...</th>\n",
       "      <td>...</td>\n",
       "      <td>...</td>\n",
       "      <td>...</td>\n",
       "      <td>...</td>\n",
       "    </tr>\n",
       "    <tr>\n",
       "      <th>4460</th>\n",
       "      <td>309</td>\n",
       "      <td>As a FABS user, I want to see correct status ...</td>\n",
       "      <td>311</td>\n",
       "      <td>As an agency user, I want a landing page to n...</td>\n",
       "    </tr>\n",
       "    <tr>\n",
       "      <th>4461</th>\n",
       "      <td>309</td>\n",
       "      <td>As a FABS user, I want to see correct status ...</td>\n",
       "      <td>312</td>\n",
       "      <td>As an agency user, I want to submit my data e...</td>\n",
       "    </tr>\n",
       "    <tr>\n",
       "      <th>4462</th>\n",
       "      <td>310</td>\n",
       "      <td>As an agency user, I want to know when the su...</td>\n",
       "      <td>311</td>\n",
       "      <td>As an agency user, I want a landing page to n...</td>\n",
       "    </tr>\n",
       "    <tr>\n",
       "      <th>4463</th>\n",
       "      <td>310</td>\n",
       "      <td>As an agency user, I want to know when the su...</td>\n",
       "      <td>312</td>\n",
       "      <td>As an agency user, I want to submit my data e...</td>\n",
       "    </tr>\n",
       "    <tr>\n",
       "      <th>4464</th>\n",
       "      <td>311</td>\n",
       "      <td>As an agency user, I want a landing page to n...</td>\n",
       "      <td>312</td>\n",
       "      <td>As an agency user, I want to submit my data e...</td>\n",
       "    </tr>\n",
       "  </tbody>\n",
       "</table>\n",
       "<p>4465 rows × 4 columns</p>\n",
       "</div>"
      ],
      "text/plain": [
       "      First ID                                   First User Story  Second ID  \\\n",
       "0          215   As a Data user, I want to have the 12-19-2017...        216   \n",
       "1          215   As a Data user, I want to have the 12-19-2017...        217   \n",
       "2          215   As a Data user, I want to have the 12-19-2017...        218   \n",
       "3          215   As a Data user, I want to have the 12-19-2017...        220   \n",
       "4          215   As a Data user, I want to have the 12-19-2017...        221   \n",
       "...        ...                                                ...        ...   \n",
       "4460       309   As a FABS user, I want to see correct status ...        311   \n",
       "4461       309   As a FABS user, I want to see correct status ...        312   \n",
       "4462       310   As an agency user, I want to know when the su...        311   \n",
       "4463       310   As an agency user, I want to know when the su...        312   \n",
       "4464       311   As an agency user, I want a landing page to n...        312   \n",
       "\n",
       "                                      Second User Story  \n",
       "0      As a UI designer, I want to redesign the Reso...  \n",
       "1      As a UI designer, I want to report to the Age...  \n",
       "2      As a UI designer, I want to move on to round ...  \n",
       "3      As a UI designer, I want to move on to round ...  \n",
       "4      As a Developer , I want to be able to log bet...  \n",
       "...                                                 ...  \n",
       "4460   As an agency user, I want a landing page to n...  \n",
       "4461   As an agency user, I want to submit my data e...  \n",
       "4462   As an agency user, I want a landing page to n...  \n",
       "4463   As an agency user, I want to submit my data e...  \n",
       "4464   As an agency user, I want to submit my data e...  \n",
       "\n",
       "[4465 rows x 4 columns]"
      ]
     },
     "metadata": {},
     "output_type": "display_data"
    }
   ],
   "source": [
    "display(df_g02_pairs)"
   ]
  },
  {
   "cell_type": "code",
   "execution_count": null,
   "metadata": {},
   "outputs": [],
   "source": []
  },
  {
   "cell_type": "markdown",
   "metadata": {},
   "source": [
    "## Closing the client"
   ]
  },
  {
   "cell_type": "code",
   "execution_count": 210,
   "metadata": {},
   "outputs": [],
   "source": [
    "client.close()"
   ]
  }
 ],
 "metadata": {
  "kernelspec": {
   "display_name": "Python 3 (ipykernel)",
   "language": "python",
   "name": "python3"
  },
  "language_info": {
   "codemirror_mode": {
    "name": "ipython",
    "version": 3
   },
   "file_extension": ".py",
   "mimetype": "text/x-python",
   "name": "python",
   "nbconvert_exporter": "python",
   "pygments_lexer": "ipython3",
   "version": "3.12.2"
  }
 },
 "nbformat": 4,
 "nbformat_minor": 2
}
