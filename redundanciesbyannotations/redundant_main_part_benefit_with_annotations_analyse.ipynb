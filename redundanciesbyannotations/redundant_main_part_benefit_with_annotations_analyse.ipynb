{
 "cells": [
  {
   "cell_type": "markdown",
   "metadata": {},
   "source": [
    "Look which technique was the best for the analysis of the dataset annotations --> nlp\\nlp_outputs\\individual_backlog"
   ]
  },
  {
   "cell_type": "code",
   "execution_count": null,
   "metadata": {},
   "outputs": [],
   "source": [
    "### This way of working with pandas is not recommend\n",
    "### It has to be optimized to find a way to store for each text ther enteties and relations\n",
    "\n",
    "def transform_data(data):\n",
    "    rows = []\n",
    "    row_enteties = []\n",
    "    row_relations = []\n",
    "    for line in data:\n",
    "        for entity in line['entities']:\n",
    "            entity_row = {\n",
    "                \"id\": entity[\"id\"],\n",
    "                \"label\": entity[\"label\"],\n",
    "                \"start_offset\": entity[\"start_offset\"],\n",
    "                \"end_offset\": entity[\"end_offset\"]\n",
    "            }\n",
    "            row_enteties.append(entity_row)\n",
    "        for relation in line['relations']:\n",
    "            relation_row = {\n",
    "                \"id\": relation[\"id\"],\n",
    "                \"type\": relation[\"type\"],\n",
    "                \"from id\": relation[\"from_id\"],\n",
    "                \"to id\": relation[\"to_id\"]\n",
    "            }\n",
    "            row_relations.append(relation_row)\n",
    "        row = {\n",
    "            'ID': line['id'],\n",
    "            'User Story': line['text'],\n",
    "            'Enteties': row_enteties,\n",
    "            'Relations': row_relations\n",
    "        }\n",
    "        rows.append(row)\n",
    "    return pd.DataFrame(rows)"
   ]
  },
  {
   "cell_type": "code",
   "execution_count": null,
   "metadata": {},
   "outputs": [],
   "source": []
  }
 ],
 "metadata": {
  "kernelspec": {
   "display_name": "Python 3 (ipykernel)",
   "language": "python",
   "name": "python3"
  }
 },
 "nbformat": 4,
 "nbformat_minor": 2
}
