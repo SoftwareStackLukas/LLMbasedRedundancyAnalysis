{
 "cells": [
  {
   "cell_type": "markdown",
   "metadata": {},
   "source": [
    "# In this notebook the dependencies are transformt to a graph structure"
   ]
  },
  {
   "cell_type": "code",
   "execution_count": null,
   "metadata": {},
   "outputs": [],
   "source": [
    "graph_structure_json: str = '''\n",
    "    [\n",
    "        {\n",
    "            \"ID\": \"Insert here the id of the user story\",\n",
    "            \"User_Story_Description\": \"Insert here the description of the user story\",\n",
    "            \"OUT_GOING_CONNECTIONS\": [\n",
    "                {\"ID\": \"INSERT here the id of the connected user story (node)\", \"connection_weight\": \"insert here a numerical value of 0..10 of the strength of the connection\"},\n",
    "                {\"ID\": \"INSERT here the id of the connected user story (node)\", \"connection_weight\": \"insert here a numerical value of 0..10 of the strength of the connection\"}\n",
    "            ]\n",
    "        },\n",
    "        {\n",
    "            \"ID\": \"Insert here the id of another user story\",\n",
    "            \"User_Story_Description\": \"Insert here the description of another user story\",\n",
    "            \"OUT_GOING_CONNECTIONS\": [\n",
    "                {\"ID\": \"INSERT here the id of another connected user story (node)\", \"connection_weight\": \"insert here a numerical value of 0..10 of the strength of the connection\"},\n",
    "                {\"ID\": \"INSERT here the id of another connected user story (node)\", \"connection_weight\": \"insert here a numerical value of 0..10 of the strength of the connection\"}\n",
    "            ]\n",
    "        }\n",
    "    ]\n",
    "'''"
   ]
  }
 ],
 "metadata": {
  "language_info": {
   "name": "python"
  }
 },
 "nbformat": 4,
 "nbformat_minor": 2
}
